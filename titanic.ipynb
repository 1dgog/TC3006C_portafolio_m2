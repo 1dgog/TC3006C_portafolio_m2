{
  "nbformat": 4,
  "nbformat_minor": 0,
  "metadata": {
    "colab": {
      "name": "titanic.ipynb",
      "provenance": [],
      "authorship_tag": "ABX9TyP8UNAF/f9kM37IVRsCAR6+",
      "include_colab_link": true
    },
    "kernelspec": {
      "name": "python3",
      "display_name": "Python 3"
    },
    "language_info": {
      "name": "python"
    }
  },
  "cells": [
    {
      "cell_type": "markdown",
      "metadata": {
        "id": "view-in-github",
        "colab_type": "text"
      },
      "source": [
        "<a href=\"https://colab.research.google.com/github/1dgog/TC3006C_portafolio_m2/blob/main/titanic.ipynb\" target=\"_parent\"><img src=\"https://colab.research.google.com/assets/colab-badge.svg\" alt=\"Open In Colab\"/></a>"
      ]
    },
    {
      "cell_type": "markdown",
      "source": [
        "# Solución a [titanic](https://www.kaggle.com/competitions/titanic/overview) con redes neuronales"
      ],
      "metadata": {
        "id": "kLNOB8oZO_-i"
      }
    },
    {
      "cell_type": "markdown",
      "source": [
        "## Conexión con Drive"
      ],
      "metadata": {
        "id": "PUII1z4aKcvk"
      }
    },
    {
      "cell_type": "code",
      "execution_count": null,
      "metadata": {
        "colab": {
          "base_uri": "https://localhost:8080/"
        },
        "id": "5IgZVLRD4RrI",
        "outputId": "9db04ecd-d01f-4a4c-fbd2-72744b929350"
      },
      "outputs": [
        {
          "output_type": "stream",
          "name": "stdout",
          "text": [
            "Drive already mounted at /content/gdrive; to attempt to forcibly remount, call drive.mount(\"/content/gdrive\", force_remount=True).\n",
            "/content/gdrive/My Drive\n",
            "/content/gdrive/MyDrive\n",
            "'Colab Notebooks'     gender_submission.csv   PlayDataset.csv\t test.csv\n",
            "'Documentos utiles'   iris.data\t\t      Portugues\t\t train.csv\n",
            " EBSCO\t\t      iris.names\t      real_estate.csv\t Valhalla23.csv\n",
            " EGSGLP\t\t      LiFE\t\t     'Servicio Social'\t wine.data\n",
            " Fotos\t\t     'Plan de estudios'      'Sin ordenar'\t wine.names\n"
          ]
        }
      ],
      "source": [
        "from google.colab import drive\n",
        "drive.mount(\"/content/gdrive\")\n",
        "!pwd\n",
        "#put your own path in google drive\n",
        "%cd \"/content/gdrive/MyDrive\"\n",
        "!ls"
      ]
    },
    {
      "cell_type": "markdown",
      "source": [
        "Se importan las librerias para análisis de datos y visualización de datos"
      ],
      "metadata": {
        "id": "3IEyisELY1Ut"
      }
    },
    {
      "cell_type": "code",
      "source": [
        "import numpy as np\n",
        "import pandas as pd\n",
        "import matplotlib.pyplot as plt\n",
        "import seaborn as sns"
      ],
      "metadata": {
        "id": "GoLkIglX4w6h"
      },
      "execution_count": null,
      "outputs": []
    },
    {
      "cell_type": "markdown",
      "source": [
        "# Análisis de la base de datos"
      ],
      "metadata": {
        "id": "f9XM7mXF3trv"
      }
    },
    {
      "cell_type": "markdown",
      "source": [
        "Se importan los datasets"
      ],
      "metadata": {
        "id": "3s0TtVPWY3k5"
      }
    },
    {
      "cell_type": "code",
      "source": [
        "columns = [\"PassengerId\",\"Survived\",\"Pclass\",\"Name\",\"Sex\",\"Age\",\"SibSp\",\"Parch\",\"Ticket\",\"Fare\",\"Cabin\",\"Embarked\"]\n",
        "df_train = pd.read_csv('train.csv', names = columns)\n",
        "df_train = df_train.iloc[1: , :]\n",
        "df_train = df_train.drop(columns = \"Cabin\")\n",
        "df_train = df_train.dropna()\n",
        "\n",
        "## las columnas inecesarias se desechan, como cabin y embarked\n",
        "\n",
        "dfInput = df_train[[\"PassengerId\",\"Pclass\",\"Age\",\"SibSp\",\"Parch\",\"Fare\"]]\n",
        "dfOutput = df_train[\"Survived\"]\n",
        "\n",
        "## gender\n",
        "\n",
        "columns = [\"PassengerId\",\"Survived\"]\n",
        "df_gender = pd.read_csv('gender_submission.csv',names = columns)\n",
        "df_gender = df_gender.iloc[1: , :]\n",
        "\n",
        "## test\n",
        "\n",
        "columns = [\"PassengerId\",\"Pclass\",\"Name\",\"Sex\",\"Age\",\"SibSp\",\"Parch\",\"Ticket\",\"Fare\",\"Cabin\",\"Embarked\"]\n",
        "df_test = pd.read_csv('test.csv',names = columns)\n",
        "df_test = df_test.iloc[1: , :]\n",
        "dftestInput = df_test[[\"PassengerId\",\"Pclass\",\"Age\",\"SibSp\",\"Parch\",\"Fare\"]]\n",
        "dftestOutput = df_gender[\"Survived\"]\n",
        "dfagain = pd.concat([dftestInput,dftestOutput],axis=1)\n",
        "dfagain = dfagain.dropna()\n",
        "dftestInput = dfagain[[\"PassengerId\",\"Pclass\",\"Age\",\"SibSp\",\"Parch\",\"Fare\"]]\n",
        "dftestOutput = dfagain[\"Survived\"]\n",
        "\n",
        "\n",
        "df_test.shape\n",
        "df_gender.shape\n",
        "dftestOutput.isnull().sum().sum()\n",
        "x = {}\n",
        "for ii in dfagain:\n",
        "  x[ii] = dfagain[ii].isnull().sum().sum()\n",
        "print(x) ## se encuentra que hay 87 nulls en age, por lo que se debe de hacer un drop que corresponda\n",
        "\n",
        "dfagain"
      ],
      "metadata": {
        "colab": {
          "base_uri": "https://localhost:8080/",
          "height": 441
        },
        "id": "diMjGVp75VdJ",
        "outputId": "1724251f-5245-4df3-dd44-fd30639854df"
      },
      "execution_count": null,
      "outputs": [
        {
          "output_type": "stream",
          "name": "stdout",
          "text": [
            "{'PassengerId': 0, 'Pclass': 0, 'Age': 0, 'SibSp': 0, 'Parch': 0, 'Fare': 0, 'Survived': 0}\n"
          ]
        },
        {
          "output_type": "execute_result",
          "data": {
            "text/plain": [
              "    PassengerId Pclass   Age SibSp Parch     Fare Survived\n",
              "1           892      3  34.5     0     0   7.8292        0\n",
              "2           893      3    47     1     0        7        1\n",
              "3           894      2    62     0     0   9.6875        0\n",
              "4           895      3    27     0     0   8.6625        0\n",
              "5           896      3    22     1     1  12.2875        1\n",
              "..          ...    ...   ...   ...   ...      ...      ...\n",
              "410        1301      3     3     1     1   13.775        1\n",
              "412        1303      1    37     1     0       90        1\n",
              "413        1304      3    28     0     0    7.775        1\n",
              "415        1306      1    39     0     0    108.9        1\n",
              "416        1307      3  38.5     0     0     7.25        0\n",
              "\n",
              "[331 rows x 7 columns]"
            ],
            "text/html": [
              "\n",
              "  <div id=\"df-d225d09c-d04a-4eb0-af3f-6b0cd54cbedf\">\n",
              "    <div class=\"colab-df-container\">\n",
              "      <div>\n",
              "<style scoped>\n",
              "    .dataframe tbody tr th:only-of-type {\n",
              "        vertical-align: middle;\n",
              "    }\n",
              "\n",
              "    .dataframe tbody tr th {\n",
              "        vertical-align: top;\n",
              "    }\n",
              "\n",
              "    .dataframe thead th {\n",
              "        text-align: right;\n",
              "    }\n",
              "</style>\n",
              "<table border=\"1\" class=\"dataframe\">\n",
              "  <thead>\n",
              "    <tr style=\"text-align: right;\">\n",
              "      <th></th>\n",
              "      <th>PassengerId</th>\n",
              "      <th>Pclass</th>\n",
              "      <th>Age</th>\n",
              "      <th>SibSp</th>\n",
              "      <th>Parch</th>\n",
              "      <th>Fare</th>\n",
              "      <th>Survived</th>\n",
              "    </tr>\n",
              "  </thead>\n",
              "  <tbody>\n",
              "    <tr>\n",
              "      <th>1</th>\n",
              "      <td>892</td>\n",
              "      <td>3</td>\n",
              "      <td>34.5</td>\n",
              "      <td>0</td>\n",
              "      <td>0</td>\n",
              "      <td>7.8292</td>\n",
              "      <td>0</td>\n",
              "    </tr>\n",
              "    <tr>\n",
              "      <th>2</th>\n",
              "      <td>893</td>\n",
              "      <td>3</td>\n",
              "      <td>47</td>\n",
              "      <td>1</td>\n",
              "      <td>0</td>\n",
              "      <td>7</td>\n",
              "      <td>1</td>\n",
              "    </tr>\n",
              "    <tr>\n",
              "      <th>3</th>\n",
              "      <td>894</td>\n",
              "      <td>2</td>\n",
              "      <td>62</td>\n",
              "      <td>0</td>\n",
              "      <td>0</td>\n",
              "      <td>9.6875</td>\n",
              "      <td>0</td>\n",
              "    </tr>\n",
              "    <tr>\n",
              "      <th>4</th>\n",
              "      <td>895</td>\n",
              "      <td>3</td>\n",
              "      <td>27</td>\n",
              "      <td>0</td>\n",
              "      <td>0</td>\n",
              "      <td>8.6625</td>\n",
              "      <td>0</td>\n",
              "    </tr>\n",
              "    <tr>\n",
              "      <th>5</th>\n",
              "      <td>896</td>\n",
              "      <td>3</td>\n",
              "      <td>22</td>\n",
              "      <td>1</td>\n",
              "      <td>1</td>\n",
              "      <td>12.2875</td>\n",
              "      <td>1</td>\n",
              "    </tr>\n",
              "    <tr>\n",
              "      <th>...</th>\n",
              "      <td>...</td>\n",
              "      <td>...</td>\n",
              "      <td>...</td>\n",
              "      <td>...</td>\n",
              "      <td>...</td>\n",
              "      <td>...</td>\n",
              "      <td>...</td>\n",
              "    </tr>\n",
              "    <tr>\n",
              "      <th>410</th>\n",
              "      <td>1301</td>\n",
              "      <td>3</td>\n",
              "      <td>3</td>\n",
              "      <td>1</td>\n",
              "      <td>1</td>\n",
              "      <td>13.775</td>\n",
              "      <td>1</td>\n",
              "    </tr>\n",
              "    <tr>\n",
              "      <th>412</th>\n",
              "      <td>1303</td>\n",
              "      <td>1</td>\n",
              "      <td>37</td>\n",
              "      <td>1</td>\n",
              "      <td>0</td>\n",
              "      <td>90</td>\n",
              "      <td>1</td>\n",
              "    </tr>\n",
              "    <tr>\n",
              "      <th>413</th>\n",
              "      <td>1304</td>\n",
              "      <td>3</td>\n",
              "      <td>28</td>\n",
              "      <td>0</td>\n",
              "      <td>0</td>\n",
              "      <td>7.775</td>\n",
              "      <td>1</td>\n",
              "    </tr>\n",
              "    <tr>\n",
              "      <th>415</th>\n",
              "      <td>1306</td>\n",
              "      <td>1</td>\n",
              "      <td>39</td>\n",
              "      <td>0</td>\n",
              "      <td>0</td>\n",
              "      <td>108.9</td>\n",
              "      <td>1</td>\n",
              "    </tr>\n",
              "    <tr>\n",
              "      <th>416</th>\n",
              "      <td>1307</td>\n",
              "      <td>3</td>\n",
              "      <td>38.5</td>\n",
              "      <td>0</td>\n",
              "      <td>0</td>\n",
              "      <td>7.25</td>\n",
              "      <td>0</td>\n",
              "    </tr>\n",
              "  </tbody>\n",
              "</table>\n",
              "<p>331 rows × 7 columns</p>\n",
              "</div>\n",
              "      <button class=\"colab-df-convert\" onclick=\"convertToInteractive('df-d225d09c-d04a-4eb0-af3f-6b0cd54cbedf')\"\n",
              "              title=\"Convert this dataframe to an interactive table.\"\n",
              "              style=\"display:none;\">\n",
              "        \n",
              "  <svg xmlns=\"http://www.w3.org/2000/svg\" height=\"24px\"viewBox=\"0 0 24 24\"\n",
              "       width=\"24px\">\n",
              "    <path d=\"M0 0h24v24H0V0z\" fill=\"none\"/>\n",
              "    <path d=\"M18.56 5.44l.94 2.06.94-2.06 2.06-.94-2.06-.94-.94-2.06-.94 2.06-2.06.94zm-11 1L8.5 8.5l.94-2.06 2.06-.94-2.06-.94L8.5 2.5l-.94 2.06-2.06.94zm10 10l.94 2.06.94-2.06 2.06-.94-2.06-.94-.94-2.06-.94 2.06-2.06.94z\"/><path d=\"M17.41 7.96l-1.37-1.37c-.4-.4-.92-.59-1.43-.59-.52 0-1.04.2-1.43.59L10.3 9.45l-7.72 7.72c-.78.78-.78 2.05 0 2.83L4 21.41c.39.39.9.59 1.41.59.51 0 1.02-.2 1.41-.59l7.78-7.78 2.81-2.81c.8-.78.8-2.07 0-2.86zM5.41 20L4 18.59l7.72-7.72 1.47 1.35L5.41 20z\"/>\n",
              "  </svg>\n",
              "      </button>\n",
              "      \n",
              "  <style>\n",
              "    .colab-df-container {\n",
              "      display:flex;\n",
              "      flex-wrap:wrap;\n",
              "      gap: 12px;\n",
              "    }\n",
              "\n",
              "    .colab-df-convert {\n",
              "      background-color: #E8F0FE;\n",
              "      border: none;\n",
              "      border-radius: 50%;\n",
              "      cursor: pointer;\n",
              "      display: none;\n",
              "      fill: #1967D2;\n",
              "      height: 32px;\n",
              "      padding: 0 0 0 0;\n",
              "      width: 32px;\n",
              "    }\n",
              "\n",
              "    .colab-df-convert:hover {\n",
              "      background-color: #E2EBFA;\n",
              "      box-shadow: 0px 1px 2px rgba(60, 64, 67, 0.3), 0px 1px 3px 1px rgba(60, 64, 67, 0.15);\n",
              "      fill: #174EA6;\n",
              "    }\n",
              "\n",
              "    [theme=dark] .colab-df-convert {\n",
              "      background-color: #3B4455;\n",
              "      fill: #D2E3FC;\n",
              "    }\n",
              "\n",
              "    [theme=dark] .colab-df-convert:hover {\n",
              "      background-color: #434B5C;\n",
              "      box-shadow: 0px 1px 3px 1px rgba(0, 0, 0, 0.15);\n",
              "      filter: drop-shadow(0px 1px 2px rgba(0, 0, 0, 0.3));\n",
              "      fill: #FFFFFF;\n",
              "    }\n",
              "  </style>\n",
              "\n",
              "      <script>\n",
              "        const buttonEl =\n",
              "          document.querySelector('#df-d225d09c-d04a-4eb0-af3f-6b0cd54cbedf button.colab-df-convert');\n",
              "        buttonEl.style.display =\n",
              "          google.colab.kernel.accessAllowed ? 'block' : 'none';\n",
              "\n",
              "        async function convertToInteractive(key) {\n",
              "          const element = document.querySelector('#df-d225d09c-d04a-4eb0-af3f-6b0cd54cbedf');\n",
              "          const dataTable =\n",
              "            await google.colab.kernel.invokeFunction('convertToInteractive',\n",
              "                                                     [key], {});\n",
              "          if (!dataTable) return;\n",
              "\n",
              "          const docLinkHtml = 'Like what you see? Visit the ' +\n",
              "            '<a target=\"_blank\" href=https://colab.research.google.com/notebooks/data_table.ipynb>data table notebook</a>'\n",
              "            + ' to learn more about interactive tables.';\n",
              "          element.innerHTML = '';\n",
              "          dataTable['output_type'] = 'display_data';\n",
              "          await google.colab.output.renderOutput(dataTable, element);\n",
              "          const docLink = document.createElement('div');\n",
              "          docLink.innerHTML = docLinkHtml;\n",
              "          element.appendChild(docLink);\n",
              "        }\n",
              "      </script>\n",
              "    </div>\n",
              "  </div>\n",
              "  "
            ]
          },
          "metadata": {},
          "execution_count": 119
        }
      ]
    },
    {
      "cell_type": "markdown",
      "source": [
        "¿Cuantos NaNs hay por columna?"
      ],
      "metadata": {
        "id": "SxHvm7IS9IBI"
      }
    },
    {
      "cell_type": "code",
      "source": [],
      "metadata": {
        "colab": {
          "base_uri": "https://localhost:8080/"
        },
        "id": "837xfpgB9dz-",
        "outputId": "0c34cdd0-eb70-4b2f-ffc2-22bf5d2602f4"
      },
      "execution_count": null,
      "outputs": [
        {
          "output_type": "stream",
          "name": "stdout",
          "text": [
            "{'PassengerId': 0, 'Pclass': 0, 'Age': 86, 'SibSp': 0, 'Parch': 0, 'Fare': 1}\n"
          ]
        }
      ]
    },
    {
      "cell_type": "markdown",
      "source": [
        "De esto se interpreta que no es apropiado eliminar los renglones con NaNs en su totalidad, puesto que la columna Fare tiene 687 datos Null, y por ende el número total de datos bajaría de eliminar estos renglones. Por lo anterior, se aplica drop a la columna Fare, pues no presenta relevancia."
      ],
      "metadata": {
        "id": "vNp9Bz3zSePE"
      }
    },
    {
      "cell_type": "markdown",
      "source": [
        "Se hace un scatter para observar la distribución de datos de "
      ],
      "metadata": {
        "id": "ooIXxEDIAYvS"
      }
    },
    {
      "cell_type": "code",
      "source": [
        "plt.scatter(df_train[\"Age\"],df_train[\"Pclass\"])\n",
        "plt.xticks(range(100, 5))"
      ],
      "metadata": {
        "colab": {
          "base_uri": "https://localhost:8080/",
          "height": 269
        },
        "id": "RnNdGRzBb5NX",
        "outputId": "8ae1396d-8a89-4b2e-d1b9-5e3c57fae1ec"
      },
      "execution_count": null,
      "outputs": [
        {
          "output_type": "execute_result",
          "data": {
            "text/plain": [
              "([], <a list of 0 Text major ticklabel objects>)"
            ]
          },
          "metadata": {},
          "execution_count": 81
        },
        {
          "output_type": "display_data",
          "data": {
            "text/plain": [
              "<Figure size 432x288 with 1 Axes>"
            ],
            "image/png": "[encoded data removed]"
          },
          "metadata": {
            "needs_background": "light"
          }
        }
      ]
    },
    {
      "cell_type": "markdown",
      "source": [
        "De este histograma se encuentra que se tiene un ligero sesgo hacia la derecha en las edades"
      ],
      "metadata": {
        "id": "8xnHXbmgQn_d"
      }
    },
    {
      "cell_type": "code",
      "source": [
        "plt.hist(df_train[\"Age\"])"
      ],
      "metadata": {
        "colab": {
          "base_uri": "https://localhost:8080/",
          "height": 317
        },
        "id": "XbEYOXxqBkRX",
        "outputId": "5256acab-f56d-4ef1-d5a8-e4a20183ff3f"
      },
      "execution_count": null,
      "outputs": [
        {
          "output_type": "execute_result",
          "data": {
            "text/plain": [
              "(array([125., 102., 117.,  76., 132.,  31.,  43.,  44.,  29.,  13.]),\n",
              " array([ 0. ,  8.7, 17.4, 26.1, 34.8, 43.5, 52.2, 60.9, 69.6, 78.3, 87. ]),\n",
              " <a list of 10 Patch objects>)"
            ]
          },
          "metadata": {},
          "execution_count": 35
        },
        {
          "output_type": "display_data",
          "data": {
            "text/plain": [
              "<Figure size 432x288 with 1 Axes>"
            ],
            "image/png": "[encoded data removed]"
          },
          "metadata": {
            "needs_background": "light"
          }
        }
      ]
    },
    {
      "cell_type": "markdown",
      "source": [
        "Se observa que la tercera clase es la que más datos tiene"
      ],
      "metadata": {
        "id": "KOiw1dM2CW2d"
      }
    },
    {
      "cell_type": "code",
      "source": [
        "plt.hist(df_train[\"Pclass\"])"
      ],
      "metadata": {
        "id": "sPgSugn_CMnW",
        "outputId": "568160c2-7f39-4a5b-c1ab-10ae66b01275",
        "colab": {
          "base_uri": "https://localhost:8080/",
          "height": 317
        }
      },
      "execution_count": null,
      "outputs": [
        {
          "output_type": "execute_result",
          "data": {
            "text/plain": [
              "(array([355.,   0.,   0.,   0.,   0., 184.,   0.,   0.,   0., 173.]),\n",
              " array([0. , 0.2, 0.4, 0.6, 0.8, 1. , 1.2, 1.4, 1.6, 1.8, 2. ]),\n",
              " <a list of 10 Patch objects>)"
            ]
          },
          "metadata": {},
          "execution_count": 36
        },
        {
          "output_type": "display_data",
          "data": {
            "text/plain": [
              "<Figure size 432x288 with 1 Axes>"
            ],
            "image/png": "[encoded data removed]"
          },
          "metadata": {
            "needs_background": "light"
          }
        }
      ]
    },
    {
      "cell_type": "markdown",
      "source": [
        "Hubieron más fallecidos que sobrevivientes."
      ],
      "metadata": {
        "id": "TiBgZkyKCeTW"
      }
    },
    {
      "cell_type": "code",
      "source": [
        "plt.hist(df_train[\"Survived\"])"
      ],
      "metadata": {
        "colab": {
          "base_uri": "https://localhost:8080/",
          "height": 317
        },
        "id": "tj4eqnUbRzh1",
        "outputId": "cf76af58-c542-41cc-a60c-7a9e03124cfe"
      },
      "execution_count": null,
      "outputs": [
        {
          "output_type": "execute_result",
          "data": {
            "text/plain": [
              "(array([424.,   0.,   0.,   0.,   0.,   0.,   0.,   0.,   0., 288.]),\n",
              " array([0. , 0.1, 0.2, 0.3, 0.4, 0.5, 0.6, 0.7, 0.8, 0.9, 1. ]),\n",
              " <a list of 10 Patch objects>)"
            ]
          },
          "metadata": {},
          "execution_count": 37
        },
        {
          "output_type": "display_data",
          "data": {
            "text/plain": [
              "<Figure size 432x288 with 1 Axes>"
            ],
            "image/png": "[encoded data removed]"
          },
          "metadata": {
            "needs_background": "light"
          }
        }
      ]
    },
    {
      "cell_type": "markdown",
      "source": [
        "Se explora sobrevivientes en grupo o solos"
      ],
      "metadata": {
        "id": "z4Eb22qcFs0q"
      }
    },
    {
      "cell_type": "markdown",
      "source": [
        "# Machine learning con librerias"
      ],
      "metadata": {
        "id": "8tSQPaLp1ikf"
      }
    },
    {
      "cell_type": "markdown",
      "source": [
        "Dado que estados resultantes de las predicciones son solo vivo y muerto, se considera que un clasificador binario como regresión logistica podría ser útil."
      ],
      "metadata": {
        "id": "_a6sj9RFCqg7"
      }
    },
    {
      "cell_type": "code",
      "source": [
        "from sklearn.neural_network import MLPClassifier\n",
        "from sklearn.model_selection import train_test_split\n",
        "from sklearn import metrics\n",
        "dftestInput.shape\n",
        "dftestOutput.shape"
      ],
      "metadata": {
        "id": "VOADvrZe0kfq",
        "colab": {
          "base_uri": "https://localhost:8080/"
        },
        "outputId": "36592cbb-765d-4793-8e7d-cc20835051b6"
      },
      "execution_count": null,
      "outputs": [
        {
          "output_type": "execute_result",
          "data": {
            "text/plain": [
              "(418,)"
            ]
          },
          "metadata": {},
          "execution_count": 92
        }
      ]
    },
    {
      "cell_type": "code",
      "source": [
        "nnSurv = MLPClassifier(hidden_layer_sizes=(10,10), \n",
        "                     activation='logistic', verbose=False, solver='adam',\n",
        "                     learning_rate='adaptive', max_iter=2000)\n",
        "nnSurv.fit(dfInput,dfOutput)\n",
        "print('Training score: ', nnSurv.score(dfInput, dfOutput))\n",
        "print('Testing score: ', nnSurv.score(dftestInput, dftestOutput)) ## error en tamaño de 418 contra 87\n",
        "print(nnSurv)\n",
        "print(nnSurv.coefs_)"
      ],
      "metadata": {
        "id": "2A2wgVN53Dp3",
        "outputId": "7de1adec-a4ce-4a92-9481-3552f65ddbf1",
        "colab": {
          "base_uri": "https://localhost:8080/"
        }
      },
      "execution_count": null,
      "outputs": [
        {
          "output_type": "stream",
          "name": "stdout",
          "text": [
            "Training score:  0.7401685393258427\n",
            "Testing score:  0.6435045317220544\n",
            "MLPClassifier(activation='logistic', hidden_layer_sizes=(10, 10),\n",
            "              learning_rate='adaptive', max_iter=2000)\n",
            "[array([[-0.25486439, -0.25972323,  0.29482764, -0.09611564,  0.27190171,\n",
            "         0.00243024, -0.00737552,  0.00229456,  0.15931393, -0.00493531],\n",
            "       [-0.05595253,  0.12792126,  0.11933086,  0.51305105, -0.83490156,\n",
            "        -0.21798132,  0.96127835,  0.27792435,  0.43489166, -0.07719037],\n",
            "       [-0.70842706, -0.8383507 ,  0.07470519,  0.38944543, -0.34171083,\n",
            "        -0.26143749,  0.33792649,  0.0052251 ,  0.16202313, -0.15384366],\n",
            "       [ 0.86314459,  0.56209967, -0.55100129,  0.81283072,  0.0098089 ,\n",
            "        -1.37553942, -0.19668454,  1.72117781, -0.81850585, -0.02448052],\n",
            "       [ 0.09683793,  0.02327493,  0.3312279 ,  0.61300823, -0.29313146,\n",
            "         0.23538697, -0.37478365,  0.2522833 ,  0.72996292,  1.14589982],\n",
            "       [ 0.09510214,  0.11208873,  0.16645963,  0.06307506,  0.02595262,\n",
            "         0.09805927, -0.31648142, -0.15541775, -0.4175052 ,  0.71205421]]), array([[-0.81502022,  0.93311007, -1.08629959,  0.96718294,  0.86527379,\n",
            "        -0.95877468,  0.83767375,  0.9606052 , -1.08272879,  0.88674891],\n",
            "       [-0.70023252,  0.69969384, -0.85679599,  0.50338274,  0.70558749,\n",
            "        -0.85372169,  0.6889227 ,  0.82076356, -0.74093021,  0.96940815],\n",
            "       [ 0.20907688, -0.16000861,  0.02333125, -0.08075189, -0.15499463,\n",
            "        -0.05662102,  0.10121597, -0.09132685,  0.29979862, -0.30425747],\n",
            "       [-0.63643461,  0.38581805, -0.77519183,  0.56317407,  0.57924628,\n",
            "        -0.36768336,  0.68091167,  0.53603789, -0.19084001,  0.24957422],\n",
            "       [-0.28175113, -0.00354785, -0.34235517,  0.40940024,  0.33895614,\n",
            "        -0.22335745,  0.18582625,  0.29316555, -0.10406973,  0.18209554],\n",
            "       [ 1.00617835, -1.15285748,  1.18380401, -0.89446976, -1.03237969,\n",
            "         0.96734431, -0.89271927, -1.08958788,  1.17500786, -0.98084685],\n",
            "       [-0.56704452,  0.07292862, -0.38262407,  0.53628701,  0.45783406,\n",
            "        -0.82518161,  1.09361004,  0.3904164 , -0.41690349,  0.85669911],\n",
            "       [-1.15557059,  1.28366582, -0.89946742,  0.82910851,  1.01595153,\n",
            "        -0.9188744 ,  1.11891841,  1.14275567, -1.0935927 ,  0.81592508],\n",
            "       [-0.01407778, -0.33391598, -0.00805385, -0.44618097, -0.41315046,\n",
            "         0.40646116, -0.54829562, -0.16014758, -0.00932395, -0.08633448],\n",
            "       [ 0.37620166, -0.52712776,  0.6179171 , -0.38075864, -0.36765579,\n",
            "         0.17208444, -0.26681998, -0.51299954,  0.23135354, -0.23141295]]), array([[ 0.92386684],\n",
            "       [-0.32797509],\n",
            "       [ 0.39410534],\n",
            "       [-0.60763336],\n",
            "       [-0.6426786 ],\n",
            "       [ 0.76683458],\n",
            "       [-0.3991293 ],\n",
            "       [-0.7022138 ],\n",
            "       [ 0.52412872],\n",
            "       [-0.56319465]])]\n"
          ]
        }
      ]
    }
  ]
}