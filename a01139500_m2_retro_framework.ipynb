{
  "nbformat": 4,
  "nbformat_minor": 0,
  "metadata": {
    "colab": {
      "provenance": [],
      "authorship_tag": "ABX9TyM5RrtdiKHzVd2GVZy66jJH",
      "include_colab_link": true
    },
    "kernelspec": {
      "name": "python3",
      "display_name": "Python 3"
    },
    "language_info": {
      "name": "python"
    }
  },
  "cells": [
    {
      "cell_type": "markdown",
      "metadata": {
        "id": "view-in-github",
        "colab_type": "text"
      },
      "source": [
        "<a href=\"https://colab.research.google.com/github/1dgog/TC3006C_portafolio_m2/blob/main/a01139500_m2_retro_framework.ipynb\" target=\"_parent\"><img src=\"https://colab.research.google.com/assets/colab-badge.svg\" alt=\"Open In Colab\"/></a>"
      ]
    },
    {
      "cell_type": "markdown",
      "source": [
        "# Momento de retroalimentación con framework"
      ],
      "metadata": {
        "id": "hgcDV2C1Uedt"
      }
    },
    {
      "cell_type": "markdown",
      "source": [
        "## Importación de librerías y dataset"
      ],
      "metadata": {
        "id": "nOYeXC2iUn7S"
      }
    },
    {
      "cell_type": "code",
      "execution_count": 1,
      "metadata": {
        "id": "hc_dR0BpyPmI",
        "outputId": "499c0b31-940a-445b-b91e-95ff99d66464",
        "colab": {
          "base_uri": "https://localhost:8080/"
        }
      },
      "outputs": [
        {
          "output_type": "stream",
          "name": "stdout",
          "text": [
            "Mounted at /content/gdrive\n",
            "/content\n",
            "/content/gdrive/MyDrive\n",
            "'Colab Notebooks'\t iris.data\t     real_estate.csv    Valhalla23.csv\n",
            "'Documentos utiles'\t iris.names\t     real_state.csv     wine.data\n",
            " EBSCO\t\t\t LiFE\t\t    'Servicio Social'   wine.names\n",
            " EGSGLP\t\t\t'Plan de estudios'  'Sin ordenar'\n",
            " Fotos\t\t\t PlayDataset.csv     test.csv\n",
            " gender_submission.csv\t Portugues\t     train.csv\n"
          ]
        }
      ],
      "source": [
        "from google.colab import drive\n",
        "drive.mount(\"/content/gdrive\")\n",
        "!pwd\n",
        "#put your own path in google drive\n",
        "%cd \"/content/gdrive/MyDrive\"\n",
        "!ls"
      ]
    },
    {
      "cell_type": "code",
      "source": [
        "import numpy as np\n",
        "import pandas as pd\n",
        "import matplotlib.pyplot as plt\n",
        "import seaborn as sns\n",
        "from sklearn.neural_network import MLPClassifier\n",
        "from sklearn.model_selection import train_test_split\n",
        "from sklearn import metrics"
      ],
      "metadata": {
        "id": "ivyklirHU1aZ"
      },
      "execution_count": 2,
      "outputs": []
    },
    {
      "cell_type": "code",
      "source": [
        "columns = [\"alcohol\",\"malic_acid\",\"ash\",\"alcalinity_of_ash\", \"magnesium\",\"total_phenols\",\"flavanoids\",\"nonflavanoid_phenols\",\"proanthocyanins\",\"color_intensity\",\"hue\",\"od280\",\"proline\"] # definir nombres de columna manualmente\n",
        "df = pd.read_csv('wine.data',names = columns) # abrir el archivo de datos con los nombres dados para las columnas\n",
        "df = df.reset_index() # se añade un nuevo indice para que el indice previo sea una clasificación que se usara en la siguiente figura.\n",
        "print(df.info())\n",
        "print(df.head())"
      ],
      "metadata": {
        "id": "qDNHvBbEU7xA",
        "outputId": "7b91a63a-6659-4eab-b20e-3d975a69636a",
        "colab": {
          "base_uri": "https://localhost:8080/"
        }
      },
      "execution_count": 12,
      "outputs": [
        {
          "output_type": "stream",
          "name": "stdout",
          "text": [
            "<class 'pandas.core.frame.DataFrame'>\n",
            "RangeIndex: 178 entries, 0 to 177\n",
            "Data columns (total 14 columns):\n",
            " #   Column                Non-Null Count  Dtype  \n",
            "---  ------                --------------  -----  \n",
            " 0   index                 178 non-null    int64  \n",
            " 1   alcohol               178 non-null    float64\n",
            " 2   malic_acid            178 non-null    float64\n",
            " 3   ash                   178 non-null    float64\n",
            " 4   alcalinity_of_ash     178 non-null    float64\n",
            " 5   magnesium             178 non-null    int64  \n",
            " 6   total_phenols         178 non-null    float64\n",
            " 7   flavanoids            178 non-null    float64\n",
            " 8   nonflavanoid_phenols  178 non-null    float64\n",
            " 9   proanthocyanins       178 non-null    float64\n",
            " 10  color_intensity       178 non-null    float64\n",
            " 11  hue                   178 non-null    float64\n",
            " 12  od280                 178 non-null    float64\n",
            " 13  proline               178 non-null    int64  \n",
            "dtypes: float64(11), int64(3)\n",
            "memory usage: 19.6 KB\n",
            "None\n",
            "   index  alcohol  malic_acid   ash  alcalinity_of_ash  magnesium  \\\n",
            "0      1    14.23        1.71  2.43               15.6        127   \n",
            "1      1    13.20        1.78  2.14               11.2        100   \n",
            "2      1    13.16        2.36  2.67               18.6        101   \n",
            "3      1    14.37        1.95  2.50               16.8        113   \n",
            "4      1    13.24        2.59  2.87               21.0        118   \n",
            "\n",
            "   total_phenols  flavanoids  nonflavanoid_phenols  proanthocyanins  \\\n",
            "0           2.80        3.06                  0.28             2.29   \n",
            "1           2.65        2.76                  0.26             1.28   \n",
            "2           2.80        3.24                  0.30             2.81   \n",
            "3           3.85        3.49                  0.24             2.18   \n",
            "4           2.80        2.69                  0.39             1.82   \n",
            "\n",
            "   color_intensity   hue  od280  proline  \n",
            "0             5.64  1.04   3.92     1065  \n",
            "1             4.38  1.05   3.40     1050  \n",
            "2             5.68  1.03   3.17     1185  \n",
            "3             7.80  0.86   3.45     1480  \n",
            "4             4.32  1.04   2.93      735  \n"
          ]
        }
      ]
    },
    {
      "cell_type": "code",
      "source": [
        "dfInput = df[[\"alcohol\",\"malic_acid\",\"ash\",\"alcalinity_of_ash\", \"magnesium\",\"total_phenols\",\"flavanoids\",\"nonflavanoid_phenols\",\"proanthocyanins\",\"color_intensity\",\"hue\",\"od280\",\"proline\"]]\n",
        "dfOutput = df[[\"index\"]]"
      ],
      "metadata": {
        "id": "Vvos_FJqVlc6"
      },
      "execution_count": 7,
      "outputs": []
    },
    {
      "cell_type": "markdown",
      "source": [
        "## Aplicación de redes neuronales"
      ],
      "metadata": {
        "id": "ZSVm4tCKUr7N"
      }
    },
    {
      "cell_type": "markdown",
      "source": [
        "Separación de datos de entrenamiento y datos de prueba"
      ],
      "metadata": {
        "id": "Mn1TN7IvWFHD"
      }
    },
    {
      "cell_type": "code",
      "source": [
        "X_train, X_test, y_train, y_test = train_test_split(dfInput, dfOutput, random_state=0)"
      ],
      "metadata": {
        "id": "Gr-EiWY-Uz3e"
      },
      "execution_count": 8,
      "outputs": []
    },
    {
      "cell_type": "markdown",
      "source": [
        "Aplicación de redes neuronales"
      ],
      "metadata": {
        "id": "6zKLJeJCWalS"
      }
    },
    {
      "cell_type": "code",
      "source": [
        "nnRE = MLPClassifier(hidden_layer_sizes=(10,10), \n",
        "                     activation='logistic', verbose=False, solver='adam',\n",
        "                     learning_rate='adaptive', max_iter=2000)\n",
        "nnRE.fit(X_train,y_train)\n",
        "print('Training score: ', nnRE.score(X_train, y_train))\n",
        "print('Testing score: ', nnRE.score(X_test, y_test))\n",
        "print(nnRE)\n",
        "print(nnRE.coefs_)"
      ],
      "metadata": {
        "id": "TDiIgBmOWKWx",
        "outputId": "55dff1b6-38d9-4b60-dfe9-65cd5ecc780d",
        "colab": {
          "base_uri": "https://localhost:8080/"
        }
      },
      "execution_count": 9,
      "outputs": [
        {
          "output_type": "stream",
          "name": "stderr",
          "text": [
            "/usr/local/lib/python3.7/dist-packages/sklearn/neural_network/_multilayer_perceptron.py:1109: DataConversionWarning: A column-vector y was passed when a 1d array was expected. Please change the shape of y to (n_samples, ), for example using ravel().\n",
            "  y = column_or_1d(y, warn=True)\n"
          ]
        },
        {
          "output_type": "stream",
          "name": "stdout",
          "text": [
            "Training score:  0.9924812030075187\n",
            "Testing score:  0.9333333333333333\n",
            "MLPClassifier(activation='logistic', hidden_layer_sizes=(10, 10),\n",
            "              learning_rate='adaptive', max_iter=2000)\n",
            "[array([[ 1.26633683e-01, -2.96620566e-03,  6.98302669e-01,\n",
            "        -5.00047644e-02,  1.96534454e-02,  1.44737600e-01,\n",
            "        -6.62483065e-03, -1.39666446e-01, -4.71216893e-02,\n",
            "         7.04158620e-01],\n",
            "       [-2.51347928e-01, -9.19896483e-01, -8.26753168e-01,\n",
            "         2.34929207e-01, -7.64680215e-01, -4.22300393e-01,\n",
            "        -6.78338454e-01,  8.00734669e-02,  2.26637210e-01,\n",
            "        -7.72610704e-01],\n",
            "       [ 8.49962249e-02, -4.47565548e-01, -1.34767078e+00,\n",
            "         1.88415425e-01, -4.21183202e-01,  9.17748926e-02,\n",
            "        -3.66200578e-01,  2.40463993e-02, -2.37970152e-01,\n",
            "        -1.31060361e+00],\n",
            "       [-4.93587984e-03,  7.90484744e-01,  8.53615977e-02,\n",
            "         2.17941521e-01,  7.17670184e-01,  3.52653279e-02,\n",
            "         6.74620116e-01, -8.50127419e-02,  2.71476601e-03,\n",
            "         1.12711900e-01],\n",
            "       [-3.33304659e-02,  5.58903563e-02, -2.46351556e-02,\n",
            "         2.38598795e-01,  4.87227429e-02, -3.91050939e-02,\n",
            "         5.09243602e-02, -8.74493476e-02,  2.76636303e-02,\n",
            "        -2.96073637e-02],\n",
            "       [ 6.20531081e-01, -4.79837921e-01,  1.39998971e-01,\n",
            "        -2.11675644e-01, -5.15959038e-01,  5.92619780e-01,\n",
            "        -4.01759367e-01, -2.01456661e-01, -5.50293094e-01,\n",
            "         2.60633096e-02],\n",
            "       [ 1.27905756e+00, -7.34413053e-01, -3.05183613e-01,\n",
            "         2.31289395e-01, -8.23290399e-01,  1.09359639e+00,\n",
            "        -7.55606460e-01, -1.96703309e-01, -1.20225792e+00,\n",
            "        -2.96513422e-02],\n",
            "       [-2.87605409e-01,  5.09122536e-01, -1.01910082e-01,\n",
            "        -3.01762801e-01,  3.25281030e-01,  3.09905609e-02,\n",
            "         4.95104565e-01, -1.97284179e-02, -2.98777771e-01,\n",
            "         4.46118816e-01],\n",
            "       [ 8.67591355e-01, -2.22355692e-01,  1.06290583e+00,\n",
            "        -2.39606479e-01, -1.18813328e-01,  1.19900148e+00,\n",
            "        -1.37764150e-01, -3.02720420e-01, -1.11926207e+00,\n",
            "         1.20766470e+00],\n",
            "       [-8.60955014e-01, -2.66098926e-01, -1.04520096e+00,\n",
            "        -1.27117780e-01, -2.03409452e-01, -9.71351685e-01,\n",
            "        -2.89661725e-01,  2.01492340e-01,  9.77893735e-01,\n",
            "        -1.10550260e+00],\n",
            "       [ 5.81573306e-01,  1.13778210e-01,  1.29107979e+00,\n",
            "         1.38994202e-01,  4.68847034e-01,  9.51551106e-01,\n",
            "         5.59108263e-01, -2.63216293e-01, -6.52919046e-01,\n",
            "         1.25884759e+00],\n",
            "       [ 1.15477845e+00, -6.65731624e-01,  2.90470131e-01,\n",
            "        -2.33975555e-01, -6.12812128e-01,  9.25642004e-01,\n",
            "        -6.83133440e-01, -2.30098094e-01, -9.85290055e-01,\n",
            "         3.85688868e-01],\n",
            "       [ 1.31752378e-05, -1.37552002e-02, -5.31430588e-03,\n",
            "        -1.04169610e-01, -1.25519850e-02, -2.34801934e-05,\n",
            "        -1.18435576e-02,  2.42473922e-02, -9.17102996e-04,\n",
            "        -6.64018514e-03]]), array([[ 0.69347552, -0.8742685 , -0.08619474, -1.44910648,  0.69169571,\n",
            "         1.15999171, -0.81554241,  0.95439058,  0.34362172, -1.49234517],\n",
            "       [-0.41418374,  0.66229116,  0.57051897,  0.85095506, -0.95232401,\n",
            "        -0.71917073,  0.89056418, -0.72875199, -0.95046632,  0.43811183],\n",
            "       [-1.12594689,  1.08673956,  1.34973808, -0.68009006, -1.10298968,\n",
            "         0.59290475,  1.03459708,  0.64366791, -1.29310148, -1.10990251],\n",
            "       [ 0.26407042,  0.22255248, -0.13750488, -0.20906491,  0.1848962 ,\n",
            "         0.19297421,  0.13752478,  0.18258919, -0.16657498,  0.16003456],\n",
            "       [-0.63012865,  0.73256686, -0.02516057,  0.58581548, -0.78883146,\n",
            "        -0.47034041,  0.71697282, -0.45396363, -0.52130512,  0.54902569],\n",
            "       [-0.13228512, -0.94925548,  0.17050592, -1.35915225,  0.52546205,\n",
            "         1.12094738, -0.91073031,  1.17715049,  0.40809791, -0.95963082],\n",
            "       [-0.63183289,  0.81555451,  0.55201782,  0.6292769 , -0.98297259,\n",
            "        -0.53610702,  0.51207813, -0.58038077, -0.78912108,  0.75292316],\n",
            "       [ 0.62732521, -0.61704204, -0.85880228, -0.13697537,  0.73039536,\n",
            "         0.24685115, -0.51472376,  0.26510051,  0.92699642, -0.49388456],\n",
            "       [ 0.04094487,  0.88393569, -0.70618509,  1.32822348, -0.74032019,\n",
            "        -1.2681981 ,  0.88702229, -1.23744606,  0.363788  ,  1.29581511],\n",
            "       [-1.06400226,  0.95533865,  1.29490783, -0.92898854, -1.0416766 ,\n",
            "         0.82454339,  0.75563439,  0.93339593, -1.24503669, -1.07709769]]), array([[ 1.13771675, -1.06304744, -0.05073058],\n",
            "       [-1.23051681,  0.81409671,  1.20843474],\n",
            "       [-1.15261842,  1.29184844, -0.68034111],\n",
            "       [-0.3922186 , -0.1575161 ,  1.6481159 ],\n",
            "       [ 1.00682075, -0.52200065, -0.41776955],\n",
            "       [ 0.88278673,  0.48715504, -1.18954108],\n",
            "       [-1.23894927,  0.54476537,  1.05932379],\n",
            "       [ 0.74745446,  0.19097044, -1.59741727],\n",
            "       [ 0.9498354 , -1.08127963, -0.05493031],\n",
            "       [-0.53131293, -0.74029144,  1.6533197 ]])]\n"
          ]
        }
      ]
    },
    {
      "cell_type": "markdown",
      "source": [
        "## Matriz de confusión"
      ],
      "metadata": {
        "id": "A7CM5xb0UkUs"
      }
    },
    {
      "cell_type": "code",
      "source": [],
      "metadata": {
        "id": "tLj16gqQUkF5"
      },
      "execution_count": null,
      "outputs": []
    }
  ]
}