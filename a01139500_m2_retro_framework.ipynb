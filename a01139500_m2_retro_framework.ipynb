{
  "nbformat": 4,
  "nbformat_minor": 0,
  "metadata": {
    "colab": {
      "provenance": [],
      "authorship_tag": "ABX9TyOm1U9IOAyyLt0Kuukpj7My",
      "include_colab_link": true
    },
    "kernelspec": {
      "name": "python3",
      "display_name": "Python 3"
    },
    "language_info": {
      "name": "python"
    }
  },
  "cells": [
    {
      "cell_type": "markdown",
      "metadata": {
        "id": "view-in-github",
        "colab_type": "text"
      },
      "source": [
        "<a href=\"https://colab.research.google.com/github/1dgog/TC3006C_portafolio_m2/blob/main/a01139500_m2_retro_framework.ipynb\" target=\"_parent\"><img src=\"https://colab.research.google.com/assets/colab-badge.svg\" alt=\"Open In Colab\"/></a>"
      ]
    },
    {
      "cell_type": "markdown",
      "source": [
        "# Momento de retroalimentación con framework"
      ],
      "metadata": {
        "id": "hgcDV2C1Uedt"
      }
    },
    {
      "cell_type": "markdown",
      "source": [
        "## Importación de librerías y dataset"
      ],
      "metadata": {
        "id": "nOYeXC2iUn7S"
      }
    },
    {
      "cell_type": "code",
      "execution_count": 14,
      "metadata": {
        "id": "hc_dR0BpyPmI",
        "outputId": "c5f08895-8eab-4b1b-83cc-3554ade3a273",
        "colab": {
          "base_uri": "https://localhost:8080/"
        }
      },
      "outputs": [
        {
          "output_type": "stream",
          "name": "stdout",
          "text": [
            "Drive already mounted at /content/gdrive; to attempt to forcibly remount, call drive.mount(\"/content/gdrive\", force_remount=True).\n",
            "/content/gdrive/My Drive\n",
            "/content/gdrive/MyDrive\n",
            "'Colab Notebooks'\t iris.data\t     real_estate.csv    Valhalla23.csv\n",
            "'Documentos utiles'\t iris.names\t     real_state.csv     wine.data\n",
            " EBSCO\t\t\t LiFE\t\t    'Servicio Social'   wine.names\n",
            " EGSGLP\t\t\t'Plan de estudios'  'Sin ordenar'\n",
            " Fotos\t\t\t PlayDataset.csv     test.csv\n",
            " gender_submission.csv\t Portugues\t     train.csv\n"
          ]
        }
      ],
      "source": [
        "from google.colab import drive\n",
        "drive.mount(\"/content/gdrive\")\n",
        "!pwd\n",
        "#put your own path in google drive\n",
        "%cd \"/content/gdrive/MyDrive\"\n",
        "!ls"
      ]
    },
    {
      "cell_type": "markdown",
      "source": [
        "Se importan librerías"
      ],
      "metadata": {
        "id": "bvUSHHr475jL"
      }
    },
    {
      "cell_type": "code",
      "source": [
        "import numpy as np\n",
        "import pandas as pd\n",
        "import matplotlib.pyplot as plt\n",
        "import seaborn as sns\n",
        "from sklearn.neural_network import MLPClassifier\n",
        "from sklearn.model_selection import train_test_split\n",
        "from sklearn import metrics\n",
        "from sklearn.metrics import confusion_matrix\n",
        "from sklearn.model_selection import cross_val_predict"
      ],
      "metadata": {
        "id": "ivyklirHU1aZ"
      },
      "execution_count": 6,
      "outputs": []
    },
    {
      "cell_type": "markdown",
      "source": [],
      "metadata": {
        "id": "o3hQgn55EcI6"
      }
    },
    {
      "cell_type": "code",
      "source": [
        "columns = [\"alcohol\",\"malic_acid\",\"ash\",\"alcalinity_of_ash\", \"magnesium\",\"total_phenols\",\"flavanoids\",\"nonflavanoid_phenols\",\"proanthocyanins\",\"color_intensity\",\"hue\",\"od280\",\"proline\"] # definir nombres de columna manualmente\n",
        "df = pd.read_csv('wine.data',names = columns) # abrir el archivo de datos con los nombres dados para las columnas\n",
        "df = df.reset_index() # se añade un nuevo indice para que el indice previo sea una clasificación que se usara en la siguiente figura.\n",
        "print(df.info())\n",
        "print(df.head())"
      ],
      "metadata": {
        "id": "qDNHvBbEU7xA",
        "outputId": "ada6b499-29d6-4fd5-d93e-aa7a15f076e1",
        "colab": {
          "base_uri": "https://localhost:8080/"
        }
      },
      "execution_count": 7,
      "outputs": [
        {
          "output_type": "stream",
          "name": "stdout",
          "text": [
            "<class 'pandas.core.frame.DataFrame'>\n",
            "RangeIndex: 178 entries, 0 to 177\n",
            "Data columns (total 14 columns):\n",
            " #   Column                Non-Null Count  Dtype  \n",
            "---  ------                --------------  -----  \n",
            " 0   index                 178 non-null    int64  \n",
            " 1   alcohol               178 non-null    float64\n",
            " 2   malic_acid            178 non-null    float64\n",
            " 3   ash                   178 non-null    float64\n",
            " 4   alcalinity_of_ash     178 non-null    float64\n",
            " 5   magnesium             178 non-null    int64  \n",
            " 6   total_phenols         178 non-null    float64\n",
            " 7   flavanoids            178 non-null    float64\n",
            " 8   nonflavanoid_phenols  178 non-null    float64\n",
            " 9   proanthocyanins       178 non-null    float64\n",
            " 10  color_intensity       178 non-null    float64\n",
            " 11  hue                   178 non-null    float64\n",
            " 12  od280                 178 non-null    float64\n",
            " 13  proline               178 non-null    int64  \n",
            "dtypes: float64(11), int64(3)\n",
            "memory usage: 19.6 KB\n",
            "None\n",
            "   index  alcohol  malic_acid   ash  alcalinity_of_ash  magnesium  \\\n",
            "0      1    14.23        1.71  2.43               15.6        127   \n",
            "1      1    13.20        1.78  2.14               11.2        100   \n",
            "2      1    13.16        2.36  2.67               18.6        101   \n",
            "3      1    14.37        1.95  2.50               16.8        113   \n",
            "4      1    13.24        2.59  2.87               21.0        118   \n",
            "\n",
            "   total_phenols  flavanoids  nonflavanoid_phenols  proanthocyanins  \\\n",
            "0           2.80        3.06                  0.28             2.29   \n",
            "1           2.65        2.76                  0.26             1.28   \n",
            "2           2.80        3.24                  0.30             2.81   \n",
            "3           3.85        3.49                  0.24             2.18   \n",
            "4           2.80        2.69                  0.39             1.82   \n",
            "\n",
            "   color_intensity   hue  od280  proline  \n",
            "0             5.64  1.04   3.92     1065  \n",
            "1             4.38  1.05   3.40     1050  \n",
            "2             5.68  1.03   3.17     1185  \n",
            "3             7.80  0.86   3.45     1480  \n",
            "4             4.32  1.04   2.93      735  \n"
          ]
        }
      ]
    },
    {
      "cell_type": "code",
      "source": [
        "dfInput = df[[\"alcohol\",\"malic_acid\",\"ash\",\"alcalinity_of_ash\", \"magnesium\",\"total_phenols\",\"flavanoids\",\"nonflavanoid_phenols\",\"proanthocyanins\",\"color_intensity\",\"hue\",\"od280\",\"proline\"]]\n",
        "dfOutput = df[[\"index\"]]"
      ],
      "metadata": {
        "id": "Vvos_FJqVlc6"
      },
      "execution_count": 8,
      "outputs": []
    },
    {
      "cell_type": "markdown",
      "source": [
        "## Aplicación de redes neuronales"
      ],
      "metadata": {
        "id": "ZSVm4tCKUr7N"
      }
    },
    {
      "cell_type": "markdown",
      "source": [
        "Separación de datos de entrenamiento y datos de prueba"
      ],
      "metadata": {
        "id": "Mn1TN7IvWFHD"
      }
    },
    {
      "cell_type": "code",
      "source": [
        "X_train, X_test, y_train, y_test = train_test_split(dfInput, dfOutput, random_state=0)"
      ],
      "metadata": {
        "id": "Gr-EiWY-Uz3e"
      },
      "execution_count": 9,
      "outputs": []
    },
    {
      "cell_type": "markdown",
      "source": [
        "Aplicación de redes neuronales"
      ],
      "metadata": {
        "id": "6zKLJeJCWalS"
      }
    },
    {
      "cell_type": "code",
      "source": [
        "cross_val_predict,\n",
        "nnRE = MLPClassifier(hidden_layer_sizes=(10,10),  ## cambiar estos parámetros\n",
        "                     activation='logistic', verbose=False, solver='adam',\n",
        "                     learning_rate='adaptive', max_iter=2000)\n",
        "nnRE.fit(X_train,y_train)"
      ],
      "metadata": {
        "id": "TDiIgBmOWKWx",
        "outputId": "57653b0c-fa75-48e2-9fd5-e75a5de48406",
        "colab": {
          "base_uri": "https://localhost:8080/"
        }
      },
      "execution_count": 10,
      "outputs": [
        {
          "output_type": "stream",
          "name": "stderr",
          "text": [
            "/usr/local/lib/python3.7/dist-packages/sklearn/neural_network/_multilayer_perceptron.py:1109: DataConversionWarning: A column-vector y was passed when a 1d array was expected. Please change the shape of y to (n_samples, ), for example using ravel().\n",
            "  y = column_or_1d(y, warn=True)\n"
          ]
        },
        {
          "output_type": "stream",
          "name": "stdout",
          "text": [
            "Training score:  0.9924812030075187\n",
            "Testing score:  0.9555555555555556\n"
          ]
        }
      ]
    },
    {
      "cell_type": "markdown",
      "source": [
        "## Scores"
      ],
      "metadata": {
        "id": "SuLOKp_87tJC"
      }
    },
    {
      "cell_type": "code",
      "source": [
        "print('Training score: ', nnRE.score(X_train, y_train))\n",
        "print('Testing score: ', nnRE.score(X_test, y_test))"
      ],
      "metadata": {
        "id": "yjC6h_qn7r1i"
      },
      "execution_count": null,
      "outputs": []
    },
    {
      "cell_type": "markdown",
      "source": [
        "## Coeficientes de las redes neuronales"
      ],
      "metadata": {
        "id": "dECd3AV87vRs"
      }
    },
    {
      "cell_type": "code",
      "source": [
        "print(nnRE)\n",
        "print(nnRE.coefs_)"
      ],
      "metadata": {
        "id": "Y6CtKqMo7p_m"
      },
      "execution_count": null,
      "outputs": []
    },
    {
      "cell_type": "markdown",
      "source": [
        "## Matriz de confusión"
      ],
      "metadata": {
        "id": "A7CM5xb0UkUs"
      }
    },
    {
      "cell_type": "markdown",
      "source": [
        "Se hacen las predicciones"
      ],
      "metadata": {
        "id": "s2FUF8UJEryJ"
      }
    },
    {
      "cell_type": "code",
      "source": [
        "pred_train = cross_val_predict(nnRE,X_train,y_train, cv = 10)\n",
        "pred_train = cross_val_predict(nnRE,X_test,y_test, cv = 10)"
      ],
      "metadata": {
        "id": "tLj16gqQUkF5",
        "colab": {
          "base_uri": "https://localhost:8080/"
        },
        "outputId": "42acb48e-4037-4ba7-edad-6f3febcc1347"
      },
      "execution_count": 13,
      "outputs": [
        {
          "output_type": "stream",
          "name": "stderr",
          "text": [
            "/usr/local/lib/python3.7/dist-packages/sklearn/neural_network/_multilayer_perceptron.py:1109: DataConversionWarning: A column-vector y was passed when a 1d array was expected. Please change the shape of y to (n_samples, ), for example using ravel().\n",
            "  y = column_or_1d(y, warn=True)\n",
            "/usr/local/lib/python3.7/dist-packages/sklearn/neural_network/_multilayer_perceptron.py:1109: DataConversionWarning: A column-vector y was passed when a 1d array was expected. Please change the shape of y to (n_samples, ), for example using ravel().\n",
            "  y = column_or_1d(y, warn=True)\n",
            "/usr/local/lib/python3.7/dist-packages/sklearn/neural_network/_multilayer_perceptron.py:1109: DataConversionWarning: A column-vector y was passed when a 1d array was expected. Please change the shape of y to (n_samples, ), for example using ravel().\n",
            "  y = column_or_1d(y, warn=True)\n",
            "/usr/local/lib/python3.7/dist-packages/sklearn/neural_network/_multilayer_perceptron.py:1109: DataConversionWarning: A column-vector y was passed when a 1d array was expected. Please change the shape of y to (n_samples, ), for example using ravel().\n",
            "  y = column_or_1d(y, warn=True)\n",
            "/usr/local/lib/python3.7/dist-packages/sklearn/neural_network/_multilayer_perceptron.py:1109: DataConversionWarning: A column-vector y was passed when a 1d array was expected. Please change the shape of y to (n_samples, ), for example using ravel().\n",
            "  y = column_or_1d(y, warn=True)\n",
            "/usr/local/lib/python3.7/dist-packages/sklearn/neural_network/_multilayer_perceptron.py:1109: DataConversionWarning: A column-vector y was passed when a 1d array was expected. Please change the shape of y to (n_samples, ), for example using ravel().\n",
            "  y = column_or_1d(y, warn=True)\n",
            "/usr/local/lib/python3.7/dist-packages/sklearn/neural_network/_multilayer_perceptron.py:1109: DataConversionWarning: A column-vector y was passed when a 1d array was expected. Please change the shape of y to (n_samples, ), for example using ravel().\n",
            "  y = column_or_1d(y, warn=True)\n",
            "/usr/local/lib/python3.7/dist-packages/sklearn/neural_network/_multilayer_perceptron.py:1109: DataConversionWarning: A column-vector y was passed when a 1d array was expected. Please change the shape of y to (n_samples, ), for example using ravel().\n",
            "  y = column_or_1d(y, warn=True)\n",
            "/usr/local/lib/python3.7/dist-packages/sklearn/neural_network/_multilayer_perceptron.py:1109: DataConversionWarning: A column-vector y was passed when a 1d array was expected. Please change the shape of y to (n_samples, ), for example using ravel().\n",
            "  y = column_or_1d(y, warn=True)\n",
            "/usr/local/lib/python3.7/dist-packages/sklearn/neural_network/_multilayer_perceptron.py:1109: DataConversionWarning: A column-vector y was passed when a 1d array was expected. Please change the shape of y to (n_samples, ), for example using ravel().\n",
            "  y = column_or_1d(y, warn=True)\n"
          ]
        },
        {
          "output_type": "stream",
          "name": "stdout",
          "text": [
            "[[13 30  0]\n",
            " [ 0 49  1]\n",
            " [ 0 28 12]]\n"
          ]
        },
        {
          "output_type": "stream",
          "name": "stderr",
          "text": [
            "/usr/local/lib/python3.7/dist-packages/sklearn/model_selection/_split.py:680: UserWarning: The least populated class in y has only 8 members, which is less than n_splits=10.\n",
            "  UserWarning,\n",
            "/usr/local/lib/python3.7/dist-packages/sklearn/neural_network/_multilayer_perceptron.py:1109: DataConversionWarning: A column-vector y was passed when a 1d array was expected. Please change the shape of y to (n_samples, ), for example using ravel().\n",
            "  y = column_or_1d(y, warn=True)\n",
            "/usr/local/lib/python3.7/dist-packages/sklearn/neural_network/_multilayer_perceptron.py:1109: DataConversionWarning: A column-vector y was passed when a 1d array was expected. Please change the shape of y to (n_samples, ), for example using ravel().\n",
            "  y = column_or_1d(y, warn=True)\n",
            "/usr/local/lib/python3.7/dist-packages/sklearn/neural_network/_multilayer_perceptron.py:1109: DataConversionWarning: A column-vector y was passed when a 1d array was expected. Please change the shape of y to (n_samples, ), for example using ravel().\n",
            "  y = column_or_1d(y, warn=True)\n",
            "/usr/local/lib/python3.7/dist-packages/sklearn/neural_network/_multilayer_perceptron.py:1109: DataConversionWarning: A column-vector y was passed when a 1d array was expected. Please change the shape of y to (n_samples, ), for example using ravel().\n",
            "  y = column_or_1d(y, warn=True)\n",
            "/usr/local/lib/python3.7/dist-packages/sklearn/neural_network/_multilayer_perceptron.py:1109: DataConversionWarning: A column-vector y was passed when a 1d array was expected. Please change the shape of y to (n_samples, ), for example using ravel().\n",
            "  y = column_or_1d(y, warn=True)\n",
            "/usr/local/lib/python3.7/dist-packages/sklearn/neural_network/_multilayer_perceptron.py:1109: DataConversionWarning: A column-vector y was passed when a 1d array was expected. Please change the shape of y to (n_samples, ), for example using ravel().\n",
            "  y = column_or_1d(y, warn=True)\n",
            "/usr/local/lib/python3.7/dist-packages/sklearn/neural_network/_multilayer_perceptron.py:1109: DataConversionWarning: A column-vector y was passed when a 1d array was expected. Please change the shape of y to (n_samples, ), for example using ravel().\n",
            "  y = column_or_1d(y, warn=True)\n",
            "/usr/local/lib/python3.7/dist-packages/sklearn/neural_network/_multilayer_perceptron.py:1109: DataConversionWarning: A column-vector y was passed when a 1d array was expected. Please change the shape of y to (n_samples, ), for example using ravel().\n",
            "  y = column_or_1d(y, warn=True)\n",
            "/usr/local/lib/python3.7/dist-packages/sklearn/neural_network/_multilayer_perceptron.py:1109: DataConversionWarning: A column-vector y was passed when a 1d array was expected. Please change the shape of y to (n_samples, ), for example using ravel().\n",
            "  y = column_or_1d(y, warn=True)\n",
            "/usr/local/lib/python3.7/dist-packages/sklearn/neural_network/_multilayer_perceptron.py:1109: DataConversionWarning: A column-vector y was passed when a 1d array was expected. Please change the shape of y to (n_samples, ), for example using ravel().\n",
            "  y = column_or_1d(y, warn=True)\n"
          ]
        },
        {
          "output_type": "stream",
          "name": "stdout",
          "text": [
            "[[12  4  0]\n",
            " [ 0 21  0]\n",
            " [ 1  3  4]]\n"
          ]
        }
      ]
    },
    {
      "cell_type": "code",
      "source": [
        "print(confusion_matrix(y_train,pred_train))\n",
        "print(confusion_matrix(y_test,pred_test))"
      ],
      "metadata": {
        "id": "Vel2rgElEhht"
      },
      "execution_count": null,
      "outputs": []
    },
    {
      "cell_type": "markdown",
      "source": [
        "## Notas de asesoría.\n",
        "\n",
        "Sesgo y varianza, estan relacionados, tiene que ver con el overfitting. Si tiene poco ses\n",
        "\n",
        "Poner en terminos de bajo, medio y alto. \n",
        "\n",
        "No es necesario que sea de varios frameworks, con uno basta.}\n",
        "\n",
        "Se pueden hacer gráficas de como cambia el score."
      ],
      "metadata": {
        "id": "WLJm5-ni638Z"
      }
    }
  ]
}