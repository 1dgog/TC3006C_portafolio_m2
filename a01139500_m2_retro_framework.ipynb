{
  "nbformat": 4,
  "nbformat_minor": 0,
  "metadata": {
    "colab": {
      "provenance": [],
      "authorship_tag": "ABX9TyOTlYr/TDNdcIHDjwqOOT97",
      "include_colab_link": true
    },
    "kernelspec": {
      "name": "python3",
      "display_name": "Python 3"
    },
    "language_info": {
      "name": "python"
    }
  },
  "cells": [
    {
      "cell_type": "markdown",
      "metadata": {
        "id": "view-in-github",
        "colab_type": "text"
      },
      "source": [
        "<a href=\"https://colab.research.google.com/github/1dgog/TC3006C_portafolio_m2/blob/main/a01139500_m2_retro_framework.ipynb\" target=\"_parent\"><img src=\"https://colab.research.google.com/assets/colab-badge.svg\" alt=\"Open In Colab\"/></a>"
      ]
    },
    {
      "cell_type": "markdown",
      "source": [
        "# Momento de retroalimentación con framework"
      ],
      "metadata": {
        "id": "hgcDV2C1Uedt"
      }
    },
    {
      "cell_type": "markdown",
      "source": [
        "## Importación de librerías y dataset"
      ],
      "metadata": {
        "id": "nOYeXC2iUn7S"
      }
    },
    {
      "cell_type": "code",
      "execution_count": 31,
      "metadata": {
        "id": "hc_dR0BpyPmI",
        "outputId": "c4496040-8142-45af-ca68-28c2863bedea",
        "colab": {
          "base_uri": "https://localhost:8080/"
        },
        "collapsed": true
      },
      "outputs": [
        {
          "output_type": "stream",
          "name": "stdout",
          "text": [
            "Drive already mounted at /content/gdrive; to attempt to forcibly remount, call drive.mount(\"/content/gdrive\", force_remount=True).\n",
            "/content/gdrive/My Drive\n",
            "/content/gdrive/MyDrive\n",
            "'Colab Notebooks'\t iris.data\t     real_estate.csv    Valhalla23.csv\n",
            "'Documentos utiles'\t iris.names\t     real_state.csv     wine.data\n",
            " EBSCO\t\t\t LiFE\t\t    'Servicio Social'   wine.names\n",
            " EGSGLP\t\t\t'Plan de estudios'  'Sin ordenar'\n",
            " Fotos\t\t\t PlayDataset.csv     test.csv\n",
            " gender_submission.csv\t Portugues\t     train.csv\n"
          ]
        }
      ],
      "source": [
        "from google.colab import drive\n",
        "drive.mount(\"/content/gdrive\")\n",
        "!pwd\n",
        "#put your own path in google drive\n",
        "%cd \"/content/gdrive/MyDrive\"\n",
        "!ls"
      ]
    },
    {
      "cell_type": "markdown",
      "source": [
        "### Librerias"
      ],
      "metadata": {
        "id": "bvUSHHr475jL"
      }
    },
    {
      "cell_type": "code",
      "source": [
        "import numpy as np\n",
        "import pandas as pd\n",
        "import matplotlib.pyplot as plt\n",
        "import seaborn as sns\n",
        "from sklearn.neural_network import MLPClassifier\n",
        "from sklearn.model_selection import train_test_split\n",
        "from sklearn import metrics\n",
        "from sklearn.metrics import confusion_matrix\n",
        "from sklearn.model_selection import cross_val_predict"
      ],
      "metadata": {
        "id": "ivyklirHU1aZ"
      },
      "execution_count": 32,
      "outputs": []
    },
    {
      "cell_type": "markdown",
      "source": [
        "### Nombramiento de dataset y visualización inicial"
      ],
      "metadata": {
        "id": "o3hQgn55EcI6"
      }
    },
    {
      "cell_type": "code",
      "source": [
        "columns = [\"alcohol\",\"malic_acid\",\"ash\",\"alcalinity_of_ash\", \"magnesium\",\"total_phenols\",\"flavanoids\",\"nonflavanoid_phenols\",\"proanthocyanins\",\"color_intensity\",\"hue\",\"od280\",\"proline\"] # definir nombres de columna manualmente\n",
        "df = pd.read_csv('wine.data',names = columns) # abrir el archivo de datos con los nombres dados para las columnas\n",
        "df = df.reset_index() # se añade un nuevo indice para que el indice previo sea una clasificación que se usara en la siguiente figura.\n",
        "print(df.info())\n",
        "print(df.head())"
      ],
      "metadata": {
        "id": "qDNHvBbEU7xA",
        "outputId": "630b980e-f213-484f-f600-054d47d1f4a2",
        "colab": {
          "base_uri": "https://localhost:8080/"
        },
        "collapsed": true
      },
      "execution_count": 33,
      "outputs": [
        {
          "output_type": "stream",
          "name": "stdout",
          "text": [
            "<class 'pandas.core.frame.DataFrame'>\n",
            "RangeIndex: 178 entries, 0 to 177\n",
            "Data columns (total 14 columns):\n",
            " #   Column                Non-Null Count  Dtype  \n",
            "---  ------                --------------  -----  \n",
            " 0   index                 178 non-null    int64  \n",
            " 1   alcohol               178 non-null    float64\n",
            " 2   malic_acid            178 non-null    float64\n",
            " 3   ash                   178 non-null    float64\n",
            " 4   alcalinity_of_ash     178 non-null    float64\n",
            " 5   magnesium             178 non-null    int64  \n",
            " 6   total_phenols         178 non-null    float64\n",
            " 7   flavanoids            178 non-null    float64\n",
            " 8   nonflavanoid_phenols  178 non-null    float64\n",
            " 9   proanthocyanins       178 non-null    float64\n",
            " 10  color_intensity       178 non-null    float64\n",
            " 11  hue                   178 non-null    float64\n",
            " 12  od280                 178 non-null    float64\n",
            " 13  proline               178 non-null    int64  \n",
            "dtypes: float64(11), int64(3)\n",
            "memory usage: 19.6 KB\n",
            "None\n",
            "   index  alcohol  malic_acid   ash  alcalinity_of_ash  magnesium  \\\n",
            "0      1    14.23        1.71  2.43               15.6        127   \n",
            "1      1    13.20        1.78  2.14               11.2        100   \n",
            "2      1    13.16        2.36  2.67               18.6        101   \n",
            "3      1    14.37        1.95  2.50               16.8        113   \n",
            "4      1    13.24        2.59  2.87               21.0        118   \n",
            "\n",
            "   total_phenols  flavanoids  nonflavanoid_phenols  proanthocyanins  \\\n",
            "0           2.80        3.06                  0.28             2.29   \n",
            "1           2.65        2.76                  0.26             1.28   \n",
            "2           2.80        3.24                  0.30             2.81   \n",
            "3           3.85        3.49                  0.24             2.18   \n",
            "4           2.80        2.69                  0.39             1.82   \n",
            "\n",
            "   color_intensity   hue  od280  proline  \n",
            "0             5.64  1.04   3.92     1065  \n",
            "1             4.38  1.05   3.40     1050  \n",
            "2             5.68  1.03   3.17     1185  \n",
            "3             7.80  0.86   3.45     1480  \n",
            "4             4.32  1.04   2.93      735  \n"
          ]
        }
      ]
    },
    {
      "cell_type": "markdown",
      "source": [
        "Se nombran los datasets de entrada y salida con el que será entrenado el modelo"
      ],
      "metadata": {
        "id": "GzFYQDmpmaHk"
      }
    },
    {
      "cell_type": "code",
      "source": [
        "dfInput = df[[\"alcohol\",\"malic_acid\",\"ash\",\"alcalinity_of_ash\", \"magnesium\",\"total_phenols\",\"flavanoids\",\"nonflavanoid_phenols\",\"proanthocyanins\",\"color_intensity\",\"hue\",\"od280\",\"proline\"]]\n",
        "dfOutput = df[[\"index\"]]"
      ],
      "metadata": {
        "id": "Vvos_FJqVlc6"
      },
      "execution_count": 34,
      "outputs": []
    },
    {
      "cell_type": "markdown",
      "source": [
        "## Aplicación de redes neuronales"
      ],
      "metadata": {
        "id": "ZSVm4tCKUr7N"
      }
    },
    {
      "cell_type": "markdown",
      "source": [
        "### Separación de datos de entrenamiento y datos de prueba"
      ],
      "metadata": {
        "id": "Mn1TN7IvWFHD"
      }
    },
    {
      "cell_type": "code",
      "source": [
        "X_train, X_test, y_train, y_test = train_test_split(dfInput, dfOutput, random_state=0)"
      ],
      "metadata": {
        "id": "Gr-EiWY-Uz3e"
      },
      "execution_count": 35,
      "outputs": []
    },
    {
      "cell_type": "markdown",
      "source": [
        "Se hizo un ciclo for en el que se inicia con 5 capas ocultas y va hasta cuarenta con pasos de 5.\n",
        "\n",
        "Lo mismo para el segundo que especifica el tamaño de la capa.\n",
        "\n",
        "Estos datos se almacenan en vectores, tanto para los datos de entrenamiento como para los de test."
      ],
      "metadata": {
        "id": "UW8HGUNElzbV"
      }
    },
    {
      "cell_type": "code",
      "source": [
        "scores_train = []\n",
        "scores_test = []\n",
        "cont = 0\n",
        "for ii in range (5,40, 5):\n",
        "  if cont == 1:\n",
        "    scores_train.append(jj_scores_train)\n",
        "    scores_test.append(jj_scores_test)\n",
        "  cont = 1\n",
        "  jj_scores_train = []\n",
        "  jj_scores_test = []\n",
        "  for jj in range(5,40,5):\n",
        "    cross_val_predict,\n",
        "    nnRE = MLPClassifier(hidden_layer_sizes=(ii,jj),  ## cambiar estos parámetros\n",
        "                        activation='logistic', verbose=False, solver='adam',\n",
        "                        learning_rate='adaptive', max_iter=2000)\n",
        "    nnRE.fit(X_train,y_train)\n",
        "    jj_scores_train.append(nnRE.score(X_train, y_train))\n",
        "    jj_scores_test.append(nnRE.score(X_test, y_test))"
      ],
      "metadata": {
        "id": "ukCu6PZTidS0",
        "outputId": "7a81760f-eaf4-46aa-f7e4-12b3aa4cb4e1",
        "colab": {
          "base_uri": "https://localhost:8080/"
        },
        "collapsed": true
      },
      "execution_count": 46,
      "outputs": [
        {
          "output_type": "stream",
          "name": "stderr",
          "text": [
            "/usr/local/lib/python3.7/dist-packages/sklearn/neural_network/_multilayer_perceptron.py:1109: DataConversionWarning: A column-vector y was passed when a 1d array was expected. Please change the shape of y to (n_samples, ), for example using ravel().\n",
            "  y = column_or_1d(y, warn=True)\n",
            "/usr/local/lib/python3.7/dist-packages/sklearn/neural_network/_multilayer_perceptron.py:1109: DataConversionWarning: A column-vector y was passed when a 1d array was expected. Please change the shape of y to (n_samples, ), for example using ravel().\n",
            "  y = column_or_1d(y, warn=True)\n",
            "/usr/local/lib/python3.7/dist-packages/sklearn/neural_network/_multilayer_perceptron.py:1109: DataConversionWarning: A column-vector y was passed when a 1d array was expected. Please change the shape of y to (n_samples, ), for example using ravel().\n",
            "  y = column_or_1d(y, warn=True)\n",
            "/usr/local/lib/python3.7/dist-packages/sklearn/neural_network/_multilayer_perceptron.py:1109: DataConversionWarning: A column-vector y was passed when a 1d array was expected. Please change the shape of y to (n_samples, ), for example using ravel().\n",
            "  y = column_or_1d(y, warn=True)\n",
            "/usr/local/lib/python3.7/dist-packages/sklearn/neural_network/_multilayer_perceptron.py:1109: DataConversionWarning: A column-vector y was passed when a 1d array was expected. Please change the shape of y to (n_samples, ), for example using ravel().\n",
            "  y = column_or_1d(y, warn=True)\n",
            "/usr/local/lib/python3.7/dist-packages/sklearn/neural_network/_multilayer_perceptron.py:1109: DataConversionWarning: A column-vector y was passed when a 1d array was expected. Please change the shape of y to (n_samples, ), for example using ravel().\n",
            "  y = column_or_1d(y, warn=True)\n",
            "/usr/local/lib/python3.7/dist-packages/sklearn/neural_network/_multilayer_perceptron.py:1109: DataConversionWarning: A column-vector y was passed when a 1d array was expected. Please change the shape of y to (n_samples, ), for example using ravel().\n",
            "  y = column_or_1d(y, warn=True)\n",
            "/usr/local/lib/python3.7/dist-packages/sklearn/neural_network/_multilayer_perceptron.py:1109: DataConversionWarning: A column-vector y was passed when a 1d array was expected. Please change the shape of y to (n_samples, ), for example using ravel().\n",
            "  y = column_or_1d(y, warn=True)\n",
            "/usr/local/lib/python3.7/dist-packages/sklearn/neural_network/_multilayer_perceptron.py:1109: DataConversionWarning: A column-vector y was passed when a 1d array was expected. Please change the shape of y to (n_samples, ), for example using ravel().\n",
            "  y = column_or_1d(y, warn=True)\n",
            "/usr/local/lib/python3.7/dist-packages/sklearn/neural_network/_multilayer_perceptron.py:1109: DataConversionWarning: A column-vector y was passed when a 1d array was expected. Please change the shape of y to (n_samples, ), for example using ravel().\n",
            "  y = column_or_1d(y, warn=True)\n",
            "/usr/local/lib/python3.7/dist-packages/sklearn/neural_network/_multilayer_perceptron.py:1109: DataConversionWarning: A column-vector y was passed when a 1d array was expected. Please change the shape of y to (n_samples, ), for example using ravel().\n",
            "  y = column_or_1d(y, warn=True)\n",
            "/usr/local/lib/python3.7/dist-packages/sklearn/neural_network/_multilayer_perceptron.py:1109: DataConversionWarning: A column-vector y was passed when a 1d array was expected. Please change the shape of y to (n_samples, ), for example using ravel().\n",
            "  y = column_or_1d(y, warn=True)\n",
            "/usr/local/lib/python3.7/dist-packages/sklearn/neural_network/_multilayer_perceptron.py:1109: DataConversionWarning: A column-vector y was passed when a 1d array was expected. Please change the shape of y to (n_samples, ), for example using ravel().\n",
            "  y = column_or_1d(y, warn=True)\n",
            "/usr/local/lib/python3.7/dist-packages/sklearn/neural_network/_multilayer_perceptron.py:1109: DataConversionWarning: A column-vector y was passed when a 1d array was expected. Please change the shape of y to (n_samples, ), for example using ravel().\n",
            "  y = column_or_1d(y, warn=True)\n",
            "/usr/local/lib/python3.7/dist-packages/sklearn/neural_network/_multilayer_perceptron.py:1109: DataConversionWarning: A column-vector y was passed when a 1d array was expected. Please change the shape of y to (n_samples, ), for example using ravel().\n",
            "  y = column_or_1d(y, warn=True)\n",
            "/usr/local/lib/python3.7/dist-packages/sklearn/neural_network/_multilayer_perceptron.py:1109: DataConversionWarning: A column-vector y was passed when a 1d array was expected. Please change the shape of y to (n_samples, ), for example using ravel().\n",
            "  y = column_or_1d(y, warn=True)\n",
            "/usr/local/lib/python3.7/dist-packages/sklearn/neural_network/_multilayer_perceptron.py:1109: DataConversionWarning: A column-vector y was passed when a 1d array was expected. Please change the shape of y to (n_samples, ), for example using ravel().\n",
            "  y = column_or_1d(y, warn=True)\n",
            "/usr/local/lib/python3.7/dist-packages/sklearn/neural_network/_multilayer_perceptron.py:1109: DataConversionWarning: A column-vector y was passed when a 1d array was expected. Please change the shape of y to (n_samples, ), for example using ravel().\n",
            "  y = column_or_1d(y, warn=True)\n",
            "/usr/local/lib/python3.7/dist-packages/sklearn/neural_network/_multilayer_perceptron.py:1109: DataConversionWarning: A column-vector y was passed when a 1d array was expected. Please change the shape of y to (n_samples, ), for example using ravel().\n",
            "  y = column_or_1d(y, warn=True)\n",
            "/usr/local/lib/python3.7/dist-packages/sklearn/neural_network/_multilayer_perceptron.py:1109: DataConversionWarning: A column-vector y was passed when a 1d array was expected. Please change the shape of y to (n_samples, ), for example using ravel().\n",
            "  y = column_or_1d(y, warn=True)\n",
            "/usr/local/lib/python3.7/dist-packages/sklearn/neural_network/_multilayer_perceptron.py:1109: DataConversionWarning: A column-vector y was passed when a 1d array was expected. Please change the shape of y to (n_samples, ), for example using ravel().\n",
            "  y = column_or_1d(y, warn=True)\n",
            "/usr/local/lib/python3.7/dist-packages/sklearn/neural_network/_multilayer_perceptron.py:1109: DataConversionWarning: A column-vector y was passed when a 1d array was expected. Please change the shape of y to (n_samples, ), for example using ravel().\n",
            "  y = column_or_1d(y, warn=True)\n",
            "/usr/local/lib/python3.7/dist-packages/sklearn/neural_network/_multilayer_perceptron.py:1109: DataConversionWarning: A column-vector y was passed when a 1d array was expected. Please change the shape of y to (n_samples, ), for example using ravel().\n",
            "  y = column_or_1d(y, warn=True)\n",
            "/usr/local/lib/python3.7/dist-packages/sklearn/neural_network/_multilayer_perceptron.py:1109: DataConversionWarning: A column-vector y was passed when a 1d array was expected. Please change the shape of y to (n_samples, ), for example using ravel().\n",
            "  y = column_or_1d(y, warn=True)\n",
            "/usr/local/lib/python3.7/dist-packages/sklearn/neural_network/_multilayer_perceptron.py:1109: DataConversionWarning: A column-vector y was passed when a 1d array was expected. Please change the shape of y to (n_samples, ), for example using ravel().\n",
            "  y = column_or_1d(y, warn=True)\n",
            "/usr/local/lib/python3.7/dist-packages/sklearn/neural_network/_multilayer_perceptron.py:1109: DataConversionWarning: A column-vector y was passed when a 1d array was expected. Please change the shape of y to (n_samples, ), for example using ravel().\n",
            "  y = column_or_1d(y, warn=True)\n",
            "/usr/local/lib/python3.7/dist-packages/sklearn/neural_network/_multilayer_perceptron.py:1109: DataConversionWarning: A column-vector y was passed when a 1d array was expected. Please change the shape of y to (n_samples, ), for example using ravel().\n",
            "  y = column_or_1d(y, warn=True)\n",
            "/usr/local/lib/python3.7/dist-packages/sklearn/neural_network/_multilayer_perceptron.py:1109: DataConversionWarning: A column-vector y was passed when a 1d array was expected. Please change the shape of y to (n_samples, ), for example using ravel().\n",
            "  y = column_or_1d(y, warn=True)\n",
            "/usr/local/lib/python3.7/dist-packages/sklearn/neural_network/_multilayer_perceptron.py:1109: DataConversionWarning: A column-vector y was passed when a 1d array was expected. Please change the shape of y to (n_samples, ), for example using ravel().\n",
            "  y = column_or_1d(y, warn=True)\n",
            "/usr/local/lib/python3.7/dist-packages/sklearn/neural_network/_multilayer_perceptron.py:1109: DataConversionWarning: A column-vector y was passed when a 1d array was expected. Please change the shape of y to (n_samples, ), for example using ravel().\n",
            "  y = column_or_1d(y, warn=True)\n",
            "/usr/local/lib/python3.7/dist-packages/sklearn/neural_network/_multilayer_perceptron.py:1109: DataConversionWarning: A column-vector y was passed when a 1d array was expected. Please change the shape of y to (n_samples, ), for example using ravel().\n",
            "  y = column_or_1d(y, warn=True)\n",
            "/usr/local/lib/python3.7/dist-packages/sklearn/neural_network/_multilayer_perceptron.py:1109: DataConversionWarning: A column-vector y was passed when a 1d array was expected. Please change the shape of y to (n_samples, ), for example using ravel().\n",
            "  y = column_or_1d(y, warn=True)\n",
            "/usr/local/lib/python3.7/dist-packages/sklearn/neural_network/_multilayer_perceptron.py:1109: DataConversionWarning: A column-vector y was passed when a 1d array was expected. Please change the shape of y to (n_samples, ), for example using ravel().\n",
            "  y = column_or_1d(y, warn=True)\n",
            "/usr/local/lib/python3.7/dist-packages/sklearn/neural_network/_multilayer_perceptron.py:1109: DataConversionWarning: A column-vector y was passed when a 1d array was expected. Please change the shape of y to (n_samples, ), for example using ravel().\n",
            "  y = column_or_1d(y, warn=True)\n",
            "/usr/local/lib/python3.7/dist-packages/sklearn/neural_network/_multilayer_perceptron.py:1109: DataConversionWarning: A column-vector y was passed when a 1d array was expected. Please change the shape of y to (n_samples, ), for example using ravel().\n",
            "  y = column_or_1d(y, warn=True)\n",
            "/usr/local/lib/python3.7/dist-packages/sklearn/neural_network/_multilayer_perceptron.py:1109: DataConversionWarning: A column-vector y was passed when a 1d array was expected. Please change the shape of y to (n_samples, ), for example using ravel().\n",
            "  y = column_or_1d(y, warn=True)\n",
            "/usr/local/lib/python3.7/dist-packages/sklearn/neural_network/_multilayer_perceptron.py:1109: DataConversionWarning: A column-vector y was passed when a 1d array was expected. Please change the shape of y to (n_samples, ), for example using ravel().\n",
            "  y = column_or_1d(y, warn=True)\n",
            "/usr/local/lib/python3.7/dist-packages/sklearn/neural_network/_multilayer_perceptron.py:1109: DataConversionWarning: A column-vector y was passed when a 1d array was expected. Please change the shape of y to (n_samples, ), for example using ravel().\n",
            "  y = column_or_1d(y, warn=True)\n",
            "/usr/local/lib/python3.7/dist-packages/sklearn/neural_network/_multilayer_perceptron.py:1109: DataConversionWarning: A column-vector y was passed when a 1d array was expected. Please change the shape of y to (n_samples, ), for example using ravel().\n",
            "  y = column_or_1d(y, warn=True)\n",
            "/usr/local/lib/python3.7/dist-packages/sklearn/neural_network/_multilayer_perceptron.py:1109: DataConversionWarning: A column-vector y was passed when a 1d array was expected. Please change the shape of y to (n_samples, ), for example using ravel().\n",
            "  y = column_or_1d(y, warn=True)\n",
            "/usr/local/lib/python3.7/dist-packages/sklearn/neural_network/_multilayer_perceptron.py:1109: DataConversionWarning: A column-vector y was passed when a 1d array was expected. Please change the shape of y to (n_samples, ), for example using ravel().\n",
            "  y = column_or_1d(y, warn=True)\n",
            "/usr/local/lib/python3.7/dist-packages/sklearn/neural_network/_multilayer_perceptron.py:1109: DataConversionWarning: A column-vector y was passed when a 1d array was expected. Please change the shape of y to (n_samples, ), for example using ravel().\n",
            "  y = column_or_1d(y, warn=True)\n",
            "/usr/local/lib/python3.7/dist-packages/sklearn/neural_network/_multilayer_perceptron.py:1109: DataConversionWarning: A column-vector y was passed when a 1d array was expected. Please change the shape of y to (n_samples, ), for example using ravel().\n",
            "  y = column_or_1d(y, warn=True)\n",
            "/usr/local/lib/python3.7/dist-packages/sklearn/neural_network/_multilayer_perceptron.py:1109: DataConversionWarning: A column-vector y was passed when a 1d array was expected. Please change the shape of y to (n_samples, ), for example using ravel().\n",
            "  y = column_or_1d(y, warn=True)\n",
            "/usr/local/lib/python3.7/dist-packages/sklearn/neural_network/_multilayer_perceptron.py:1109: DataConversionWarning: A column-vector y was passed when a 1d array was expected. Please change the shape of y to (n_samples, ), for example using ravel().\n",
            "  y = column_or_1d(y, warn=True)\n",
            "/usr/local/lib/python3.7/dist-packages/sklearn/neural_network/_multilayer_perceptron.py:1109: DataConversionWarning: A column-vector y was passed when a 1d array was expected. Please change the shape of y to (n_samples, ), for example using ravel().\n",
            "  y = column_or_1d(y, warn=True)\n",
            "/usr/local/lib/python3.7/dist-packages/sklearn/neural_network/_multilayer_perceptron.py:1109: DataConversionWarning: A column-vector y was passed when a 1d array was expected. Please change the shape of y to (n_samples, ), for example using ravel().\n",
            "  y = column_or_1d(y, warn=True)\n",
            "/usr/local/lib/python3.7/dist-packages/sklearn/neural_network/_multilayer_perceptron.py:1109: DataConversionWarning: A column-vector y was passed when a 1d array was expected. Please change the shape of y to (n_samples, ), for example using ravel().\n",
            "  y = column_or_1d(y, warn=True)\n",
            "/usr/local/lib/python3.7/dist-packages/sklearn/neural_network/_multilayer_perceptron.py:1109: DataConversionWarning: A column-vector y was passed when a 1d array was expected. Please change the shape of y to (n_samples, ), for example using ravel().\n",
            "  y = column_or_1d(y, warn=True)\n"
          ]
        }
      ]
    },
    {
      "cell_type": "code",
      "source": [
        "print(scores_train)\n",
        "print(scores_test)\n",
        "scores_train.info()"
      ],
      "metadata": {
        "id": "6qqLjwNajMoJ",
        "outputId": "2accf9d0-1286-4953-b428-6f6ecd1899ab",
        "colab": {
          "base_uri": "https://localhost:8080/",
          "height": 165
        },
        "collapsed": true
      },
      "execution_count": 51,
      "outputs": [
        {
          "output_type": "error",
          "ename": "AttributeError",
          "evalue": "ignored",
          "traceback": [
            "\u001b[0;31m---------------------------------------------------------------------------\u001b[0m",
            "\u001b[0;31mAttributeError\u001b[0m                            Traceback (most recent call last)",
            "\u001b[0;32m<ipython-input-51-88d0c1f86692>\u001b[0m in \u001b[0;36m<module>\u001b[0;34m\u001b[0m\n\u001b[0;32m----> 1\u001b[0;31m \u001b[0mscores_train\u001b[0m\u001b[0;34m.\u001b[0m\u001b[0minfo\u001b[0m\u001b[0;34m(\u001b[0m\u001b[0;34m)\u001b[0m\u001b[0;34m\u001b[0m\u001b[0;34m\u001b[0m\u001b[0m\n\u001b[0m",
            "\u001b[0;31mAttributeError\u001b[0m: 'list' object has no attribute 'info'"
          ]
        }
      ]
    },
    {
      "cell_type": "markdown",
      "source": [
        "### Coeficientes de las redes neuronales"
      ],
      "metadata": {
        "id": "dECd3AV87vRs"
      }
    },
    {
      "cell_type": "code",
      "source": [
        "print(nnRE)\n",
        "print(nnRE.coefs_)"
      ],
      "metadata": {
        "id": "Y6CtKqMo7p_m",
        "collapsed": true,
        "outputId": "6035cab9-db9a-46bc-9ad4-9375fa31911a",
        "colab": {
          "base_uri": "https://localhost:8080/"
        }
      },
      "execution_count": 48,
      "outputs": [
        {
          "output_type": "stream",
          "name": "stdout",
          "text": [
            "MLPClassifier(activation='logistic', hidden_layer_sizes=(35, 35),\n",
            "              learning_rate='adaptive', max_iter=2000)\n",
            "[array([[-1.36863129e-01,  4.18075426e-02,  9.55163886e-03,\n",
            "         5.98048288e-02,  2.84467889e-01, -1.77197181e-01,\n",
            "         1.30913705e-01, -1.60092047e-01, -2.35204220e-02,\n",
            "        -4.18189820e-02,  1.94735522e-01,  2.23745717e-01,\n",
            "         2.21152911e-01,  3.13041735e-01, -1.27197621e-02,\n",
            "         2.42584740e-01,  1.10123552e-01,  9.13844510e-02,\n",
            "        -1.41653078e-01, -4.43506323e-02,  1.24917063e-01,\n",
            "        -1.26471699e-01, -1.30512644e-01, -6.98515194e-02,\n",
            "        -2.30556231e-02,  1.93584798e-02,  1.58961592e-01,\n",
            "         2.14257888e-01, -4.87569115e-02,  4.00322202e-03,\n",
            "        -2.51812632e-01,  1.44264087e-01, -1.75063656e-01,\n",
            "         7.84993650e-02,  1.86807068e-01],\n",
            "       [ 4.40361816e-01, -1.12821517e-01, -2.54622911e-01,\n",
            "        -4.43784351e-01, -4.90593904e-02,  5.03494582e-01,\n",
            "         1.03471642e-02,  4.17330752e-01,  4.13095537e-01,\n",
            "         3.54179429e-01, -3.29163610e-01, -3.03419193e-02,\n",
            "        -9.82254794e-02, -6.60346752e-02, -8.21283502e-02,\n",
            "        -4.59866055e-02, -2.94820192e-01, -3.70464513e-01,\n",
            "         5.11111372e-01,  3.57757281e-01,  4.70729491e-01,\n",
            "        -1.36314082e-01,  7.52999791e-02,  3.22907055e-01,\n",
            "        -4.31890801e-03, -2.52916769e-01, -3.01011674e-01,\n",
            "        -2.29947970e-01,  2.96292546e-01,  2.06552681e-02,\n",
            "         3.53479465e-01, -4.57210859e-01, -8.19109745e-02,\n",
            "         4.58475205e-01, -3.53239396e-01],\n",
            "       [ 5.70809039e-01,  1.54254867e-01, -1.23591254e-01,\n",
            "        -3.88616770e-01, -3.45985395e-01,  4.80878559e-01,\n",
            "        -1.59116851e-01,  4.49410753e-01,  2.42631519e-01,\n",
            "         3.64658983e-01, -4.37791546e-01,  2.47429825e-02,\n",
            "        -3.15610819e-01, -1.52197951e-01,  4.71066375e-02,\n",
            "        -3.51611532e-01, -1.49845851e-01, -2.51011434e-01,\n",
            "         4.38642148e-01,  3.59436292e-01,  9.64483976e-02,\n",
            "         5.39306655e-02,  1.18312518e-01,  3.69076136e-01,\n",
            "        -1.09555147e-04,  1.18461036e-01, -4.03943817e-01,\n",
            "        -4.00943077e-01,  1.62528921e-02,  1.67027193e-02,\n",
            "         4.37893234e-01, -3.14710041e-01,  6.91834104e-02,\n",
            "         1.80487548e-01, -4.35653254e-01],\n",
            "       [-7.43556515e-02,  2.69921941e-02,  4.56056274e-01,\n",
            "         3.01586050e-02,  3.51654726e-02,  4.26902134e-02,\n",
            "         1.94268424e-01, -5.47774563e-03, -6.95858343e-02,\n",
            "        -1.34810751e-01,  4.84273382e-03,  8.14095299e-02,\n",
            "         7.32098556e-02,  1.75408144e-01,  4.37122596e-02,\n",
            "         2.82397063e-02,  4.28686919e-02,  2.85822581e-01,\n",
            "         3.95791520e-02, -9.57586169e-02, -4.82695192e-01,\n",
            "        -3.86822487e-02, -9.31057653e-03, -4.60347139e-02,\n",
            "        -3.33945410e-02, -5.39996425e-02, -4.50662266e-02,\n",
            "        -2.58127163e-02, -5.35145551e-01,  8.85321999e-03,\n",
            "        -1.36144943e-01,  1.01975443e-01,  4.80451869e-02,\n",
            "        -5.74954240e-01,  2.24600342e-03],\n",
            "       [ 1.24767625e-02, -4.56943041e-02,  4.08399020e-02,\n",
            "        -2.40250831e-04, -1.83344097e-02,  8.46736338e-04,\n",
            "        -3.08371982e-02, -2.95582315e-02,  2.74854443e-02,\n",
            "         1.53900345e-02, -1.04300804e-02, -1.40155303e-02,\n",
            "        -4.21697521e-02,  7.68356714e-02, -1.67286122e-01,\n",
            "        -1.61518267e-02, -2.67150619e-02,  2.04775502e-02,\n",
            "        -8.44566814e-04,  1.20502863e-02, -4.94724085e-02,\n",
            "        -5.67739253e-02,  3.91449902e-02,  2.80067822e-02,\n",
            "        -8.66100307e-03, -1.38374877e-02, -6.26458219e-03,\n",
            "        -3.41304743e-03, -2.22508661e-01,  2.19773620e-03,\n",
            "         2.13498679e-02, -1.99838852e-02, -9.17381332e-02,\n",
            "        -5.15206962e-02, -6.05650278e-03],\n",
            "       [ 4.07748171e-02,  4.15849042e-01, -3.02755358e-01,\n",
            "         1.95520846e-01,  7.83901511e-02, -1.24561200e-02,\n",
            "        -3.98691258e-01,  4.27356976e-01, -4.15774176e-01,\n",
            "        -1.38643569e-01,  1.06214529e-01, -3.92703095e-01,\n",
            "         9.28398409e-02,  3.41117944e-01, -2.33512348e-02,\n",
            "         3.35548544e-02,  2.32903894e-01, -3.98224255e-01,\n",
            "         3.18889172e-02, -1.96491286e-01,  4.39478272e-01,\n",
            "        -3.29661931e-02, -1.71060612e-01, -3.32655664e-01,\n",
            "        -1.14111319e-03,  3.75803228e-01, -1.20818110e-02,\n",
            "         4.12276636e-02,  1.27120613e-01,  1.71584556e-02,\n",
            "         3.80612051e-01,  2.04213665e-02,  1.02465383e-01,\n",
            "         3.89042644e-01,  2.59751107e-01],\n",
            "       [ 3.34344118e-01,  5.27271018e-01, -3.75352388e-01,\n",
            "         1.02719552e-01,  2.60395082e-01,  1.69366043e-01,\n",
            "        -6.14813092e-01,  6.58789447e-01, -6.07796060e-01,\n",
            "        -1.65078797e-01,  8.66970638e-02, -5.46335249e-01,\n",
            "         2.29364178e-01,  5.64918904e-01, -1.08532240e-01,\n",
            "         1.92884783e-01,  5.69416678e-01, -4.16271741e-01,\n",
            "         3.92481690e-01, -2.15335087e-01,  5.17104762e-01,\n",
            "        -1.24111082e-01, -8.82507725e-01, -6.52663082e-01,\n",
            "        -6.26546735e-03,  3.85507729e-01, -1.77709092e-01,\n",
            "         2.85332998e-02,  2.49832299e-01,  2.58572236e-02,\n",
            "         5.41956801e-01, -3.58542664e-02,  2.63185204e-01,\n",
            "         2.92422024e-01,  1.53071781e-01],\n",
            "       [ 1.14609038e-01, -6.34105835e-02,  3.41941171e-01,\n",
            "         5.26436908e-02,  3.18311645e-01, -1.25898929e-01,\n",
            "         8.43796511e-03,  2.63992812e-02, -1.81296784e-01,\n",
            "        -1.39149352e-01,  2.15348309e-01,  4.03308654e-01,\n",
            "         2.04232201e-01,  4.53918402e-01,  8.08689634e-02,\n",
            "         2.49266509e-01,  2.78889055e-01,  2.30616291e-01,\n",
            "         8.45783724e-02, -1.41283470e-01, -3.75079473e-01,\n",
            "        -1.36663332e-01, -3.55450744e-01, -7.43142775e-02,\n",
            "        -5.61698500e-04, -2.53433225e-01,  3.54721119e-03,\n",
            "         1.68145419e-01,  3.77984100e-01,  1.05743995e-02,\n",
            "         4.51970151e-02,  7.04831848e-03, -1.75487643e-01,\n",
            "        -2.29007473e-01,  3.47373980e-02],\n",
            "       [-2.98799131e-01,  5.84198031e-01, -9.98422816e-02,\n",
            "         3.91725637e-01,  5.70855508e-01, -3.81365902e-01,\n",
            "        -3.17760675e-01,  4.54173089e-01, -5.13969432e-01,\n",
            "        -5.46059161e-01,  4.35665956e-01, -4.70276121e-01,\n",
            "         4.93664639e-01,  6.63696929e-01, -7.26707532e-02,\n",
            "         5.22250409e-01,  4.41980966e-01, -1.69789086e-01,\n",
            "        -2.69402440e-01, -4.92526936e-01,  1.81555557e-01,\n",
            "        -2.79795378e-01, -7.60082367e-01, -6.06788567e-01,\n",
            "        -8.17557452e-04,  4.13157791e-01,  3.52167083e-01,\n",
            "         4.74711280e-01,  2.33362243e-01,  1.20949256e-02,\n",
            "         4.82405436e-01,  4.01558490e-01,  2.00978312e-01,\n",
            "         3.33571618e-01,  4.61460241e-01],\n",
            "       [ 5.09844354e-01, -4.53998740e-01, -3.61321728e-01,\n",
            "        -4.82315660e-01, -2.91542813e-01,  5.02219698e-01,\n",
            "         5.09502837e-01, -2.62947848e-01,  4.75862217e-01,\n",
            "         5.20989979e-01, -4.41543364e-01,  3.83957620e-01,\n",
            "        -3.11809277e-01, -2.45851117e-01,  9.33079473e-02,\n",
            "        -2.92070860e-01, -5.52616053e-01, -1.03149418e-01,\n",
            "         4.77619871e-01,  4.36939132e-01,  1.95901179e-01,\n",
            "         5.49069011e-04,  6.70933931e-01,  5.04668234e-01,\n",
            "         3.35709007e-02, -5.35747636e-01, -3.73751665e-01,\n",
            "        -4.08058575e-01,  3.16195802e-01,  1.10317937e-02,\n",
            "        -3.96749160e-01, -5.52442959e-01, -4.15447862e-02,\n",
            "         4.22997799e-01, -4.48469214e-01],\n",
            "       [-5.16809923e-01,  5.03454176e-01,  1.29053940e-01,\n",
            "         5.86056985e-01,  5.24460120e-01, -5.24951363e-01,\n",
            "        -2.95854941e-01, -3.83618019e-02, -4.84196418e-01,\n",
            "        -4.61990440e-01,  4.83128963e-01, -3.92467141e-02,\n",
            "         4.76482896e-01,  4.91883530e-01, -8.07738325e-03,\n",
            "         4.79122363e-01,  3.83435194e-01,  1.77481379e-01,\n",
            "        -4.37799250e-01, -4.86916804e-01, -1.18243347e-01,\n",
            "        -1.85840492e-01, -5.78031416e-01, -4.88184628e-01,\n",
            "        -3.32779339e-04,  3.72724900e-01,  4.33530148e-01,\n",
            "         4.83658385e-01, -5.34424612e-03,  2.64500134e-04,\n",
            "        -3.97234050e-02,  5.13999189e-01, -1.10084612e-01,\n",
            "        -4.66448061e-02,  5.77794153e-01],\n",
            "       [-1.72937996e-02,  4.61044365e-01, -5.01167061e-01,\n",
            "         4.06337892e-01,  1.70859404e-01, -6.41201905e-02,\n",
            "        -3.80430799e-01,  6.01208127e-01, -5.02535842e-01,\n",
            "        -2.39378069e-01,  1.63073736e-01, -3.01719750e-01,\n",
            "         1.75240995e-01,  4.01247737e-01, -1.25659485e-01,\n",
            "         1.29712733e-01,  3.87254712e-01, -4.83880942e-01,\n",
            "         1.13882924e-01, -3.76280709e-01,  4.65071336e-01,\n",
            "        -6.05478677e-02, -6.22178554e-01, -5.73704826e-01,\n",
            "        -1.29590441e-02,  5.44530484e-01, -5.47435347e-02,\n",
            "         1.01090621e-01,  1.44312182e-01,  2.82928858e-02,\n",
            "         4.31316018e-01,  1.05724739e-01,  2.07288250e-01,\n",
            "         2.73893924e-01,  3.03545750e-01],\n",
            "       [-1.27499467e-03,  2.65539615e-03, -8.49289134e-03,\n",
            "        -2.44635012e-03, -6.50325507e-03, -7.61799688e-04,\n",
            "        -1.86616041e-03,  1.12286932e-03, -1.86675258e-03,\n",
            "         2.28983476e-03, -1.24825635e-03, -2.95955922e-03,\n",
            "        -2.27724826e-03, -3.12002639e-02,  6.12221912e-02,\n",
            "        -4.53064503e-03,  1.52307155e-03, -4.32555072e-03,\n",
            "        -2.68751358e-03,  2.98583351e-03,  7.52936478e-03,\n",
            "         1.73513664e-02, -1.91751691e-03, -1.80959034e-03,\n",
            "         3.57598461e-02,  2.63372386e-03,  1.62756180e-03,\n",
            "        -1.91066264e-03,  3.31134211e-02,  2.39588460e-02,\n",
            "         6.62063347e-04, -7.59038400e-04,  1.61895695e-02,\n",
            "         1.02879443e-02, -3.13025498e-03]]), array([[ 0.39683228,  0.09682332,  0.51476722, ..., -0.50429154,\n",
            "         0.301354  , -0.13617445],\n",
            "       [ 0.0207271 , -0.46251749,  0.28473374, ..., -0.06198562,\n",
            "         0.42049981,  0.49612797],\n",
            "       [-0.32028801,  0.12654052, -0.19248907, ...,  0.12863955,\n",
            "        -0.37316482, -0.22539056],\n",
            "       ...,\n",
            "       [ 0.13735177, -0.07298391, -0.03923451, ...,  0.03702638,\n",
            "        -0.06784764,  0.11249979],\n",
            "       [ 0.47157172, -0.08298883,  0.43954605, ..., -0.23898638,\n",
            "         0.40662107,  0.32045704],\n",
            "       [-0.5449915 , -0.5215611 , -0.43126911, ...,  0.41311922,\n",
            "        -0.39201247,  0.37911558]]), array([[ 0.35377728, -0.37272476,  0.07770788],\n",
            "       [-0.57518358, -0.12801353,  0.53208587],\n",
            "       [ 0.23378845, -0.48182245, -0.18999777],\n",
            "       [ 0.5682464 ,  0.08743014, -0.51593362],\n",
            "       [-0.33267706,  0.43364971,  0.15920083],\n",
            "       [-0.60413393,  0.30359947,  0.02336164],\n",
            "       [-0.50144193, -0.2856265 ,  0.35640712],\n",
            "       [ 0.30143492,  0.12511783, -0.4703503 ],\n",
            "       [-0.18401071,  0.38606017, -0.35412189],\n",
            "       [ 0.55922814, -0.08972773, -0.3847942 ],\n",
            "       [ 0.42044057, -0.41372899,  0.01337061],\n",
            "       [-0.21622165,  0.51455676, -0.29362489],\n",
            "       [ 0.4701488 , -0.30137504,  0.2067858 ],\n",
            "       [-0.58887154, -0.23435678,  0.53515798],\n",
            "       [-0.45177289, -0.37645127,  0.45628029],\n",
            "       [-0.45470863,  0.3311667 ,  0.25030552],\n",
            "       [-0.21536791,  0.48432435, -0.40191078],\n",
            "       [-0.46295277,  0.41921339,  0.19307128],\n",
            "       [-0.41777984,  0.00361076,  0.54534627],\n",
            "       [ 0.47976717, -0.39770661,  0.05887938],\n",
            "       [-0.17881541, -0.34483428,  0.53258069],\n",
            "       [ 0.53908409, -0.24677631, -0.26160891],\n",
            "       [ 0.35353784, -0.54509685,  0.39583489],\n",
            "       [-0.56271636,  0.39516798,  0.30237435],\n",
            "       [ 0.49052302,  0.13987279, -0.53539866],\n",
            "       [-0.51280875,  0.2124988 ,  0.03864541],\n",
            "       [-0.24278   ,  0.46234237, -0.18196452],\n",
            "       [-0.30506575,  0.3641744 , -0.33989556],\n",
            "       [-0.42575145, -0.38303638,  0.36174642],\n",
            "       [-0.48326923, -0.26497167,  0.5435049 ],\n",
            "       [ 0.47574439, -0.17135891,  0.17602112],\n",
            "       [ 0.32985831, -0.52128413,  0.07068549],\n",
            "       [-0.38792226,  0.48888045, -0.03898497],\n",
            "       [ 0.51321637, -0.39433329, -0.34423578],\n",
            "       [ 0.43085401,  0.33025453, -0.52558443]])]\n"
          ]
        }
      ]
    },
    {
      "cell_type": "markdown",
      "source": [
        "## Visualización de scores"
      ],
      "metadata": {
        "id": "Z42eFvSHo80V"
      }
    },
    {
      "cell_type": "code",
      "source": [
        "import matplotlib.pyplot as plt\n",
        "import numpy as np\n",
        "\n",
        "x = np.arange(10)\n",
        "\n",
        "for a in length(scores_train):\n",
        "    plt.plot(x, a*x)\n",
        "\n",
        "plt.show()"
      ],
      "metadata": {
        "id": "r3jVjUeEpAlo",
        "outputId": "fc25b30a-1be7-4c9e-8095-4f4ce04a1b4d",
        "colab": {
          "base_uri": "https://localhost:8080/",
          "height": 265
        }
      },
      "execution_count": 49,
      "outputs": [
        {
          "output_type": "display_data",
          "data": {
            "text/plain": [
              "<Figure size 432x288 with 1 Axes>"
            ],
            "image/png": "[encoded data removed]"
          },
          "metadata": {
            "needs_background": "light"
          }
        }
      ]
    },
    {
      "cell_type": "markdown",
      "source": [
        "## Evaluación del modelo"
      ],
      "metadata": {
        "id": "A7CM5xb0UkUs"
      }
    },
    {
      "cell_type": "markdown",
      "source": [
        "Se hacen las predicciones"
      ],
      "metadata": {
        "id": "s2FUF8UJEryJ"
      }
    },
    {
      "cell_type": "code",
      "source": [
        "pred_train = cross_val_predict(nnRE,X_train,y_train, cv = 10)\n",
        "pred_train = cross_val_predict(nnRE,X_test,y_test, cv = 10)"
      ],
      "metadata": {
        "id": "tLj16gqQUkF5",
        "colab": {
          "base_uri": "https://localhost:8080/"
        },
        "outputId": "42acb48e-4037-4ba7-edad-6f3febcc1347"
      },
      "execution_count": null,
      "outputs": [
        {
          "output_type": "stream",
          "name": "stderr",
          "text": [
            "/usr/local/lib/python3.7/dist-packages/sklearn/neural_network/_multilayer_perceptron.py:1109: DataConversionWarning: A column-vector y was passed when a 1d array was expected. Please change the shape of y to (n_samples, ), for example using ravel().\n",
            "  y = column_or_1d(y, warn=True)\n",
            "/usr/local/lib/python3.7/dist-packages/sklearn/neural_network/_multilayer_perceptron.py:1109: DataConversionWarning: A column-vector y was passed when a 1d array was expected. Please change the shape of y to (n_samples, ), for example using ravel().\n",
            "  y = column_or_1d(y, warn=True)\n",
            "/usr/local/lib/python3.7/dist-packages/sklearn/neural_network/_multilayer_perceptron.py:1109: DataConversionWarning: A column-vector y was passed when a 1d array was expected. Please change the shape of y to (n_samples, ), for example using ravel().\n",
            "  y = column_or_1d(y, warn=True)\n",
            "/usr/local/lib/python3.7/dist-packages/sklearn/neural_network/_multilayer_perceptron.py:1109: DataConversionWarning: A column-vector y was passed when a 1d array was expected. Please change the shape of y to (n_samples, ), for example using ravel().\n",
            "  y = column_or_1d(y, warn=True)\n",
            "/usr/local/lib/python3.7/dist-packages/sklearn/neural_network/_multilayer_perceptron.py:1109: DataConversionWarning: A column-vector y was passed when a 1d array was expected. Please change the shape of y to (n_samples, ), for example using ravel().\n",
            "  y = column_or_1d(y, warn=True)\n",
            "/usr/local/lib/python3.7/dist-packages/sklearn/neural_network/_multilayer_perceptron.py:1109: DataConversionWarning: A column-vector y was passed when a 1d array was expected. Please change the shape of y to (n_samples, ), for example using ravel().\n",
            "  y = column_or_1d(y, warn=True)\n",
            "/usr/local/lib/python3.7/dist-packages/sklearn/neural_network/_multilayer_perceptron.py:1109: DataConversionWarning: A column-vector y was passed when a 1d array was expected. Please change the shape of y to (n_samples, ), for example using ravel().\n",
            "  y = column_or_1d(y, warn=True)\n",
            "/usr/local/lib/python3.7/dist-packages/sklearn/neural_network/_multilayer_perceptron.py:1109: DataConversionWarning: A column-vector y was passed when a 1d array was expected. Please change the shape of y to (n_samples, ), for example using ravel().\n",
            "  y = column_or_1d(y, warn=True)\n",
            "/usr/local/lib/python3.7/dist-packages/sklearn/neural_network/_multilayer_perceptron.py:1109: DataConversionWarning: A column-vector y was passed when a 1d array was expected. Please change the shape of y to (n_samples, ), for example using ravel().\n",
            "  y = column_or_1d(y, warn=True)\n",
            "/usr/local/lib/python3.7/dist-packages/sklearn/neural_network/_multilayer_perceptron.py:1109: DataConversionWarning: A column-vector y was passed when a 1d array was expected. Please change the shape of y to (n_samples, ), for example using ravel().\n",
            "  y = column_or_1d(y, warn=True)\n"
          ]
        },
        {
          "output_type": "stream",
          "name": "stdout",
          "text": [
            "[[13 30  0]\n",
            " [ 0 49  1]\n",
            " [ 0 28 12]]\n"
          ]
        },
        {
          "output_type": "stream",
          "name": "stderr",
          "text": [
            "/usr/local/lib/python3.7/dist-packages/sklearn/model_selection/_split.py:680: UserWarning: The least populated class in y has only 8 members, which is less than n_splits=10.\n",
            "  UserWarning,\n",
            "/usr/local/lib/python3.7/dist-packages/sklearn/neural_network/_multilayer_perceptron.py:1109: DataConversionWarning: A column-vector y was passed when a 1d array was expected. Please change the shape of y to (n_samples, ), for example using ravel().\n",
            "  y = column_or_1d(y, warn=True)\n",
            "/usr/local/lib/python3.7/dist-packages/sklearn/neural_network/_multilayer_perceptron.py:1109: DataConversionWarning: A column-vector y was passed when a 1d array was expected. Please change the shape of y to (n_samples, ), for example using ravel().\n",
            "  y = column_or_1d(y, warn=True)\n",
            "/usr/local/lib/python3.7/dist-packages/sklearn/neural_network/_multilayer_perceptron.py:1109: DataConversionWarning: A column-vector y was passed when a 1d array was expected. Please change the shape of y to (n_samples, ), for example using ravel().\n",
            "  y = column_or_1d(y, warn=True)\n",
            "/usr/local/lib/python3.7/dist-packages/sklearn/neural_network/_multilayer_perceptron.py:1109: DataConversionWarning: A column-vector y was passed when a 1d array was expected. Please change the shape of y to (n_samples, ), for example using ravel().\n",
            "  y = column_or_1d(y, warn=True)\n",
            "/usr/local/lib/python3.7/dist-packages/sklearn/neural_network/_multilayer_perceptron.py:1109: DataConversionWarning: A column-vector y was passed when a 1d array was expected. Please change the shape of y to (n_samples, ), for example using ravel().\n",
            "  y = column_or_1d(y, warn=True)\n",
            "/usr/local/lib/python3.7/dist-packages/sklearn/neural_network/_multilayer_perceptron.py:1109: DataConversionWarning: A column-vector y was passed when a 1d array was expected. Please change the shape of y to (n_samples, ), for example using ravel().\n",
            "  y = column_or_1d(y, warn=True)\n",
            "/usr/local/lib/python3.7/dist-packages/sklearn/neural_network/_multilayer_perceptron.py:1109: DataConversionWarning: A column-vector y was passed when a 1d array was expected. Please change the shape of y to (n_samples, ), for example using ravel().\n",
            "  y = column_or_1d(y, warn=True)\n",
            "/usr/local/lib/python3.7/dist-packages/sklearn/neural_network/_multilayer_perceptron.py:1109: DataConversionWarning: A column-vector y was passed when a 1d array was expected. Please change the shape of y to (n_samples, ), for example using ravel().\n",
            "  y = column_or_1d(y, warn=True)\n",
            "/usr/local/lib/python3.7/dist-packages/sklearn/neural_network/_multilayer_perceptron.py:1109: DataConversionWarning: A column-vector y was passed when a 1d array was expected. Please change the shape of y to (n_samples, ), for example using ravel().\n",
            "  y = column_or_1d(y, warn=True)\n",
            "/usr/local/lib/python3.7/dist-packages/sklearn/neural_network/_multilayer_perceptron.py:1109: DataConversionWarning: A column-vector y was passed when a 1d array was expected. Please change the shape of y to (n_samples, ), for example using ravel().\n",
            "  y = column_or_1d(y, warn=True)\n"
          ]
        },
        {
          "output_type": "stream",
          "name": "stdout",
          "text": [
            "[[12  4  0]\n",
            " [ 0 21  0]\n",
            " [ 1  3  4]]\n"
          ]
        }
      ]
    },
    {
      "cell_type": "code",
      "source": [],
      "metadata": {
        "id": "ajeWFIG6lVwB"
      },
      "execution_count": null,
      "outputs": []
    },
    {
      "cell_type": "markdown",
      "source": [
        "### Matrices de confusión"
      ],
      "metadata": {
        "id": "d0qtCZybmkd_"
      }
    },
    {
      "cell_type": "code",
      "source": [
        "print(confusion_matrix(y_train,pred_train))\n",
        "print(confusion_matrix(y_test,pred_test))"
      ],
      "metadata": {
        "id": "Vel2rgElEhht"
      },
      "execution_count": null,
      "outputs": []
    },
    {
      "cell_type": "markdown",
      "source": [
        "## Notas de asesoría.\n",
        "\n",
        "Sesgo y varianza, estan relacionados, tiene que ver con el overfitting. Si tiene poco ses\n",
        "\n",
        "Poner en terminos de bajo, medio y alto. \n",
        "\n",
        "No es necesario que sea de varios frameworks, con uno basta.}\n",
        "\n",
        "Se pueden hacer gráficas de como cambia el score."
      ],
      "metadata": {
        "id": "WLJm5-ni638Z"
      }
    }
  ]
}