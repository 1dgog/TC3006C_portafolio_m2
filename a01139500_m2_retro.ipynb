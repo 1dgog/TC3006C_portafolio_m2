{
  "nbformat": 4,
  "nbformat_minor": 0,
  "metadata": {
    "colab": {
      "name": "a01139500_m2_retro.ipynb",
      "provenance": [],
      "authorship_tag": "ABX9TyMtwm2yDuxvwK+U4zzkQDVg",
      "include_colab_link": true
    },
    "kernelspec": {
      "name": "python3",
      "display_name": "Python 3"
    },
    "language_info": {
      "name": "python"
    }
  },
  "cells": [
    {
      "cell_type": "markdown",
      "metadata": {
        "id": "view-in-github",
        "colab_type": "text"
      },
      "source": [
        "<a href=\"https://colab.research.google.com/github/1dgog/TC3006C_portafolio_m2/blob/main/a01139500_m2_retro.ipynb\" target=\"_parent\"><img src=\"https://colab.research.google.com/assets/colab-badge.svg\" alt=\"Open In Colab\"/></a>"
      ]
    },
    {
      "cell_type": "markdown",
      "source": [
        "# Módulo 2 Implementación de una técnica de aprendizaje máquina sin el uso de un framework"
      ],
      "metadata": {
        "id": "j_2Hs2p-0C8m"
      }
    },
    {
      "cell_type": "code",
      "execution_count": null,
      "metadata": {
        "id": "96psNgD5z48b"
      },
      "outputs": [],
      "source": [
        "import pandas as np\n",
        "import numpy as np\n",
        "from sklearn.model_selection import train_test_split as tts"
      ]
    }
  ]
}